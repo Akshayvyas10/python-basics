{
 "cells": [
  {
   "cell_type": "code",
   "execution_count": 1,
   "id": "fbd18897-4a0c-4b45-89e1-e049f084e0b2",
   "metadata": {},
   "outputs": [],
   "source": [
    "#Q1.Explain Class and Object with respect to Object-Oriented Programming. Give a suitable example."
   ]
  },
  {
   "cell_type": "raw",
   "id": "d5f58be4-b02e-4522-a2db-e37b6d606335",
   "metadata": {},
   "source": [
    "CLASS : IT IS DEFINED AS A CODE TEMPLATE UNDER WHICH VARIABLES(OBJECTS) ARE CREATED \n",
    "OBJECT : IT IS DEFINED AS A VARIABLE WHICH IS ASSOSICATED TO A CLASS AND ARE RUNNED UNDER A CLASS\n",
    "EXAMPLE : \"CAR\" IS A CLASS WHEREAS \"A TATA NEXON IS AN OBJECT OF CAR CLASS\"\n",
    "ALSO \"PWSKILLS\" IS A CLASS \"DATA SCIENCE MASTERS\",\"WEB DEVELOPMENT\",\"JAVA WITH DSA\" THER ARE THE OBJECT OF PWSKILLS CLASS"
   ]
  },
  {
   "cell_type": "code",
   "execution_count": 2,
   "id": "b4bd3e03-2d7e-47a5-9374-3aae0e1e97dd",
   "metadata": {},
   "outputs": [],
   "source": [
    "#Q2.Name the four pillars of OOPs."
   ]
  },
  {
   "cell_type": "raw",
   "id": "a656b9b0-703e-4bbe-9447-eaab3cb12239",
   "metadata": {},
   "source": [
    "THE FOUR PILLARS OF OOPs :\n",
    "1)ENCAPSULATIOM\n",
    "2)INHERITANCE\n",
    "3)POLYMORPHISM\n",
    "4)ABSTRACTION"
   ]
  },
  {
   "cell_type": "code",
   "execution_count": 3,
   "id": "c0978a56-2856-4ced-aeee-f16a49e672bf",
   "metadata": {},
   "outputs": [],
   "source": [
    "#Q3.Explain why the __init__() function is used. Give a suitable example."
   ]
  },
  {
   "cell_type": "raw",
   "id": "104801c9-fafc-48ab-81b2-8c0a15da213b",
   "metadata": {},
   "source": [
    "\"__init__\" : THIS IS PARTICULARLY USED AS A CONSTRUCTOR IN OOPs PROGRAMMING CONCEPT.\n",
    "             TO BE MORE PRECISE __init__ is used to store data \n",
    "             example of this method is defined below"
   ]
  },
  {
   "cell_type": "code",
   "execution_count": 4,
   "id": "97ba4235-5568-4fa5-855f-3963a8dddf0b",
   "metadata": {},
   "outputs": [],
   "source": [
    "class pwskills():\n",
    "    def __init__(self,name,email_id,student_id):\n",
    "        self.name = name\n",
    "        self.email_id = email_id\n",
    "        self.student_id = student_id\n",
    "        \n",
    "    "
   ]
  },
  {
   "cell_type": "code",
   "execution_count": 5,
   "id": "eecd0672-4c46-43a3-9bc7-9176b5cbd29f",
   "metadata": {},
   "outputs": [],
   "source": [
    "pw1 = pwskills(\"akshay vyas\",\"akshay@gmail.com\",101)"
   ]
  },
  {
   "cell_type": "code",
   "execution_count": 6,
   "id": "8bd317cb-6635-411c-a3dc-0d755604d0cf",
   "metadata": {},
   "outputs": [
    {
     "data": {
      "text/plain": [
       "'akshay vyas'"
      ]
     },
     "execution_count": 6,
     "metadata": {},
     "output_type": "execute_result"
    }
   ],
   "source": [
    "pw1.name"
   ]
  },
  {
   "cell_type": "code",
   "execution_count": 7,
   "id": "448cb923-5eb7-4b9f-a599-69d375abbd16",
   "metadata": {},
   "outputs": [
    {
     "data": {
      "text/plain": [
       "'akshay@gmail.com'"
      ]
     },
     "execution_count": 7,
     "metadata": {},
     "output_type": "execute_result"
    }
   ],
   "source": [
    "pw1.email_id"
   ]
  },
  {
   "cell_type": "code",
   "execution_count": 8,
   "id": "89c21cc6-0182-45e8-a17a-39f53813e161",
   "metadata": {},
   "outputs": [
    {
     "data": {
      "text/plain": [
       "101"
      ]
     },
     "execution_count": 8,
     "metadata": {},
     "output_type": "execute_result"
    }
   ],
   "source": [
    "pw1.student_id"
   ]
  },
  {
   "cell_type": "code",
   "execution_count": 9,
   "id": "7fb97513-e3b4-45f6-ac96-d36505669d74",
   "metadata": {},
   "outputs": [],
   "source": [
    "#Q4.Why self is used in OOPs?"
   ]
  },
  {
   "cell_type": "raw",
   "id": "fda4ccad-5407-47b4-9971-035d21bf26a9",
   "metadata": {},
   "source": [
    "\"SELF\" : IT IS A POINTER WHICH IS USED TO BIND THE PARTICULAR OBJECT TO THE CLASS"
   ]
  },
  {
   "cell_type": "code",
   "execution_count": 10,
   "id": "0d59980c-3a94-4e9b-a8be-5cacdaa1dcc4",
   "metadata": {},
   "outputs": [],
   "source": [
    "#Q5.What is inheritance? Give an example for each type of inheritance."
   ]
  },
  {
   "cell_type": "raw",
   "id": "daa35b8e-e5f8-409a-b4c8-d804b3863c3e",
   "metadata": {},
   "source": [
    "\"INHERITANCE\" IS DEFINED AS TAKING UP PROPERTY OF ONE CLASS TO OTHER CLASS \n",
    "THE CLASS WHOES PROPERTIES ARE TAKEN IS DEFINED AS \"PARENT CLASS\"\n",
    "WHEREAS CLASS WHO TAKES UPBTHOSE PROPERTIES IS CALLED AS \"CHILD CLASS\"\n",
    "EXAMPLE OF VARIOUS INHERITANCE"
   ]
  },
  {
   "cell_type": "code",
   "execution_count": 12,
   "id": "c4be4a42-b8c7-49ed-92ca-92708dbc3722",
   "metadata": {},
   "outputs": [],
   "source": [
    "#simple inheritance\n",
    "class a():\n",
    "    def classa():\n",
    "        print(\"this is class a\")\n",
    "    \n",
    "class b(a):\n",
    "    pass"
   ]
  },
  {
   "cell_type": "code",
   "execution_count": 23,
   "id": "494df862-70cb-42fd-bb0a-d7a39168bb23",
   "metadata": {},
   "outputs": [],
   "source": [
    "av = b"
   ]
  },
  {
   "cell_type": "code",
   "execution_count": 25,
   "id": "816923d9-82e8-4d1a-974c-87827a814d29",
   "metadata": {},
   "outputs": [
    {
     "name": "stdout",
     "output_type": "stream",
     "text": [
      "this is class a\n"
     ]
    }
   ],
   "source": [
    "av.classa()"
   ]
  },
  {
   "cell_type": "code",
   "execution_count": 26,
   "id": "b1d76525-42ec-452f-a3c5-7ec79361ed4e",
   "metadata": {},
   "outputs": [],
   "source": [
    "#multy level inheritance\n",
    "\n",
    "class a1():\n",
    "    def a():\n",
    "        print(\"this method is associated with class a1\")\n",
    "        \n",
    "class b1(a1):\n",
    "    def b():\n",
    "        print(\"this method is associated with class b1\")\n",
    "        \n",
    "class c1(b1):\n",
    "    def c():\n",
    "        print(\"this method is associated with class b1\")"
   ]
  },
  {
   "cell_type": "code",
   "execution_count": 27,
   "id": "9b43b78b-8045-4f78-bc17-2116e1ae125b",
   "metadata": {},
   "outputs": [],
   "source": [
    "obj_c = c1"
   ]
  },
  {
   "cell_type": "code",
   "execution_count": 29,
   "id": "cd181503-3292-4c5b-886f-f386306ae7a5",
   "metadata": {},
   "outputs": [
    {
     "name": "stdout",
     "output_type": "stream",
     "text": [
      "this method is associated with class b1\n"
     ]
    }
   ],
   "source": [
    "obj_c.c()"
   ]
  },
  {
   "cell_type": "code",
   "execution_count": 30,
   "id": "81bde903-d103-4906-a56a-bdba10593b1a",
   "metadata": {},
   "outputs": [
    {
     "name": "stdout",
     "output_type": "stream",
     "text": [
      "this method is associated with class b1\n"
     ]
    }
   ],
   "source": [
    "obj_c.b()"
   ]
  },
  {
   "cell_type": "code",
   "execution_count": 31,
   "id": "27da2258-0d74-4253-9e47-707e5e97b9d7",
   "metadata": {},
   "outputs": [
    {
     "name": "stdout",
     "output_type": "stream",
     "text": [
      "this method is associated with class a1\n"
     ]
    }
   ],
   "source": [
    "obj_c.a()"
   ]
  },
  {
   "cell_type": "code",
   "execution_count": 32,
   "id": "6c7e25e0-9237-4926-bb44-b503384f0c9a",
   "metadata": {},
   "outputs": [],
   "source": [
    "#multiple inheritance"
   ]
  },
  {
   "cell_type": "code",
   "execution_count": 33,
   "id": "0249e871-9f1d-428b-bca4-4ec09fa1f7ff",
   "metadata": {},
   "outputs": [],
   "source": [
    "class x():\n",
    "    def func_x():\n",
    "        print(\"THIS BELONGS TO CLASS X\")\n",
    "        \n",
    "class y():\n",
    "    def func_y():\n",
    "        print(\"THIS BELONGS TO CLASS Y\")\n",
    "        \n",
    "class z(x,y):\n",
    "    def func_z():\n",
    "        print(\"THIS BELONGS TO CLASS Z\")"
   ]
  },
  {
   "cell_type": "code",
   "execution_count": null,
   "id": "ed26f64e-05b7-49f8-9c6a-185918efd854",
   "metadata": {},
   "outputs": [],
   "source": [
    "obj_z ="
   ]
  }
 ],
 "metadata": {
  "kernelspec": {
   "display_name": "Python 3 (ipykernel)",
   "language": "python",
   "name": "python3"
  },
  "language_info": {
   "codemirror_mode": {
    "name": "ipython",
    "version": 3
   },
   "file_extension": ".py",
   "mimetype": "text/x-python",
   "name": "python",
   "nbconvert_exporter": "python",
   "pygments_lexer": "ipython3",
   "version": "3.10.8"
  }
 },
 "nbformat": 4,
 "nbformat_minor": 5
}
