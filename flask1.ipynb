{
 "cells": [
  {
   "cell_type": "code",
   "execution_count": null,
   "id": "ba79db76-3dac-45b5-b348-3833d135b66c",
   "metadata": {},
   "outputs": [],
   "source": [
    "#Q1. What is Flask Framework? What are the advantages of Flask Framework?"
   ]
  },
  {
   "cell_type": "code",
   "execution_count": null,
   "id": "69187d56-87fa-4600-ad3f-8930638cfefb",
   "metadata": {},
   "outputs": [],
   "source": [
    "'''\n",
    "Flask Framework:-\n",
    "\n",
    "Flask is a Python-based micro web framework.\n",
    "It's classified as a microframework because it doesn't require specific tools or libraries. \n",
    "This means it provides core functionalities for building web applications without imposing strict project structures.   \n",
    "\n",
    "#Key features:\n",
    "\n",
    "Built on Werkzeug WSGI toolkit and Jinja2 templating engine.   \n",
    "Highly flexible and customizable.   \n",
    "Lightweight and easy to learn.   \n",
    "Strong community support.\n",
    "\n",
    "#Advantages of Flask Framework\n",
    "\n",
    "Flexibility: You have complete control over the structure of your application.   \n",
    "Simplicity: Easy to learn and use, ideal for small to medium-sized projects.   \n",
    "Scalability: Can be scaled to handle larger applications with the right extensions.\n",
    "Performance: Generally performs well due to its lightweight nature.   \n",
    "Extensibility: Offers a rich ecosystem of extensions for database integration, form validation, and other features.   \n",
    "Community support: A large and active community provides resources and support.'''"
   ]
  },
  {
   "cell_type": "code",
   "execution_count": null,
   "id": "c0fb32cb-f546-4884-9204-3e6c3a4418de",
   "metadata": {},
   "outputs": [],
   "source": [
    "#Q2. Create a simple Flask application to display ‘Hello World!!’. Attach the screenshot of the output in\n",
    "#Jupyter Notebook."
   ]
  },
  {
   "cell_type": "code",
   "execution_count": null,
   "id": "24ad06e6-42e1-4b1a-b066-d01487a1afdc",
   "metadata": {},
   "outputs": [],
   "source": [
    "'''from flask import Flask\n",
    "\n",
    "app = Flask(__name__)\n",
    "\n",
    "@app.route('/')\n",
    "def hello_world():\n",
    "    return 'Hello, World!'\n",
    "\n",
    "if __name__ == '__main__':\n",
    "    app.run(debug=True)'''"
   ]
  },
  {
   "cell_type": "code",
   "execution_count": null,
   "id": "182e7093-5afe-48dd-8f39-545a873765c9",
   "metadata": {},
   "outputs": [],
   "source": [
    "#Q3. Q3. What is App routing in Flask? Why do we use app routes?"
   ]
  },
  {
   "cell_type": "code",
   "execution_count": null,
   "id": "fef4f596-7c55-4c87-8074-e01364a0aefe",
   "metadata": {},
   "outputs": [],
   "source": [
    "'''\n",
    "#App Routing in Flask:-\n",
    "\n",
    "App routing in Flask refers to the process of mapping URLs to specific functions within your application. \n",
    "This mechanism determines which function will be executed when a user accesses a particular URL.   \n",
    "\n",
    "#Why Use App Routing?:-\n",
    "\n",
    "Structure: It provides a clear structure to your application by defining how different parts of your website or API are organized.   \n",
    "User experience: By using meaningful URLs, you can improve user experience and make your application more intuitive.\n",
    "Organization: It helps in separating different functionalities of your application into distinct functions.\n",
    "Flexibility: Flask's routing system allows you to create dynamic URLs using URL parameters.   \n",
    "\n",
    "Example:\n",
    "\n",
    "from flask import Flask\n",
    "\n",
    "app = Flask(__name__)\n",
    "\n",
    "@app.route('/')\n",
    "def index():\n",
    "    return 'Hello, World!'\n",
    "\n",
    "@app.route('/about')\n",
    "def about():\n",
    "    return 'This is the about page.'\n",
    "\n",
    "if __name__ == '__main__':\n",
    "    app.run(debug=True)'''"
   ]
  },
  {
   "cell_type": "code",
   "execution_count": null,
   "id": "94136c74-ea46-4129-a60d-3d8966e8eb1b",
   "metadata": {},
   "outputs": [],
   "source": [
    "#Q4. Create a “/welcome” route to display the welcome message “Welcome to ABC Corporation” and a “/”\n",
    "route to show the following details:\n",
    "Company Name: ABC Corporation\n",
    "Location: India\n",
    "Contact Detail: 999-999-9999"
   ]
  },
  {
   "cell_type": "code",
   "execution_count": null,
   "id": "e880a146-ccd5-4057-90e7-8585da16e02d",
   "metadata": {},
   "outputs": [],
   "source": [
    "'''\n",
    "from flask import Flask\n",
    "\n",
    "app = Flask(__name__)\n",
    "\n",
    "@app.route('/welcome')\n",
    "def welcome():\n",
    "    return 'Welcome to ABC Corporation'\n",
    "\n",
    "@app.route('/')\n",
    "def home():\n",
    "    return '''\n",
    "    Company Name: ABC Corporation\n",
    "    Location: India\n",
    "    Contact Detail: 999-999-9999\n",
    "    '''\n",
    "\n",
    "if __name__ == '__main__':\n",
    "    app.run(debug=True)'''"
   ]
  },
  {
   "cell_type": "code",
   "execution_count": null,
   "id": "91b788a7-0ef5-48a8-8f30-ef388b8ae2cb",
   "metadata": {},
   "outputs": [],
   "source": [
    "#Q5. What function is used in Flask for URL Building? Write a Python code to demonstrate the working of the url_for() function."
   ]
  },
  {
   "cell_type": "code",
   "execution_count": null,
   "id": "a3cb9e69-d600-4b98-a0e4-c7782cfb37a4",
   "metadata": {},
   "outputs": [],
   "source": [
    "'''\n",
    "#Flask's url_for Function\n",
    "\n",
    "The url_for function in Flask is used to generate URLs based on route names. \n",
    "This is particularly helpful when you need to create links dynamically within your templates or redirect users to specific URLs.\n",
    "\n",
    "#Syntax:\n",
    "\n",
    "url_for(endpoint, **kwargs)\n",
    "\n",
    "endpoint: The name of the function that handles the route.\n",
    "kwargs: Optional arguments to pass to the URL rule.\n",
    "\n",
    "#Example:\n",
    "\n",
    "from flask import Flask, url_for\n",
    "\n",
    "app = Flask(__name__)\n",
    "\n",
    "@app.route('/')\n",
    "def index():\n",
    "    return 'Index page'\n",
    "\n",
    "@app.route('/about')\n",
    "def about():\n",
    "    return 'About page'\n",
    "\n",
    "@app.route('/profile/<username>')\n",
    "def profile(username):\n",
    "    return f'Profile for {username}'\n",
    "\n",
    "if __name__ == '__main__':\n",
    "    with app.test_request_context():\n",
    "        print(url_for('index'))\n",
    "        print(url_for('about'))\n",
    "        print(url_for('profile', username='john_doe'))\n",
    "    app.run(debug=True)'''"
   ]
  }
 ],
 "metadata": {
  "kernelspec": {
   "display_name": "Python 3 (ipykernel)",
   "language": "python",
   "name": "python3"
  },
  "language_info": {
   "codemirror_mode": {
    "name": "ipython",
    "version": 3
   },
   "file_extension": ".py",
   "mimetype": "text/x-python",
   "name": "python",
   "nbconvert_exporter": "python",
   "pygments_lexer": "ipython3",
   "version": "3.10.8"
  }
 },
 "nbformat": 4,
 "nbformat_minor": 5
}
