{
 "cells": [
  {
   "cell_type": "code",
   "execution_count": 2,
   "id": "4189d3d7-ae7e-4f90-92da-6689f98dee45",
   "metadata": {},
   "outputs": [],
   "source": [
    "#Q1.Create a python program to sort the given list of tuples based on integer value using a\n",
    "#lambda function. \n",
    "#[('Sachin Tendulkar', 34357), ('Ricky Ponting', 27483), ('Jack Kallis', 25534), ('Virat Kohli', 24936)]"
   ]
  },
  {
   "cell_type": "code",
   "execution_count": 31,
   "id": "5403c8d7-a514-49b7-9881-cc856be5ec3e",
   "metadata": {},
   "outputs": [],
   "source": [
    "l = [('Sachin Tendulkar', 34357), ('Jack Kallis', 25534), ('Ricky Ponting', 27483), ('Virat Kohli', 24936)]"
   ]
  },
  {
   "cell_type": "code",
   "execution_count": 54,
   "id": "bb19d3b2-dbbf-4aa8-8fc1-7aeaf7f03e73",
   "metadata": {},
   "outputs": [],
   "source": [
    "s = (lambda x : x.sort , l)"
   ]
  },
  {
   "cell_type": "code",
   "execution_count": 55,
   "id": "66641d03-f6f8-4fce-a675-f93df7eaf32a",
   "metadata": {},
   "outputs": [
    {
     "data": {
      "text/plain": [
       "(<function __main__.<lambda>(x)>,\n",
       " [('Jack Kallis', 25534),\n",
       "  ('Ricky Ponting', 27483),\n",
       "  ('Sachin Tendulkar', 34357),\n",
       "  ('Virat Kohli', 24936)])"
      ]
     },
     "execution_count": 55,
     "metadata": {},
     "output_type": "execute_result"
    }
   ],
   "source": [
    "s"
   ]
  },
  {
   "cell_type": "raw",
   "id": "4690229f-64d5-44e9-aefa-653fc4ab7e6b",
   "metadata": {},
   "source": [
    "UNABLE TO SORT THROUGH NUMBER"
   ]
  },
  {
   "cell_type": "code",
   "execution_count": 83,
   "id": "49efb552-d78e-4df6-8780-d479a336cfe0",
   "metadata": {},
   "outputs": [],
   "source": [
    "#Q2.Write a Python Program to find the squares of all the numbers in the given list of integers using\n",
    "#lambda and map functions.\n",
    "#[1, 2, 3, 4, 5, 6, 7, 8, 9, 10]\n"
   ]
  },
  {
   "cell_type": "code",
   "execution_count": 84,
   "id": "cddd8e78-fc19-400d-a7cc-cd6425c04b03",
   "metadata": {},
   "outputs": [],
   "source": [
    "a = [1, 2, 3, 4, 5, 6, 7, 8, 9, 10]"
   ]
  },
  {
   "cell_type": "code",
   "execution_count": 87,
   "id": "7ac388df-65c5-4232-9e25-c60decee9fe1",
   "metadata": {},
   "outputs": [],
   "source": [
    "s = map(lambda x : x**2, a)"
   ]
  },
  {
   "cell_type": "code",
   "execution_count": 90,
   "id": "3871788c-9f96-448d-8262-54117ecd8229",
   "metadata": {},
   "outputs": [
    {
     "data": {
      "text/plain": [
       "[1, 4, 9, 16, 25, 36, 49, 64, 81, 100]"
      ]
     },
     "execution_count": 90,
     "metadata": {},
     "output_type": "execute_result"
    }
   ],
   "source": [
    "list(s)"
   ]
  },
  {
   "cell_type": "code",
   "execution_count": 91,
   "id": "fcb10212-0dfc-4550-99f4-a5e2ddd048c7",
   "metadata": {},
   "outputs": [],
   "source": [
    "#Q3.Write a python program to convert the given list of integers into a tuple of strings. Use map and\n",
    "#lambda functions\n",
    "#Given String: [1, 2, 3, 4, 5, 6, 7, 8, 9, 10]\n",
    "#Expected output: ('1', '2', '3', '4', '5', '6', '7', '8', '9', '10')"
   ]
  },
  {
   "cell_type": "code",
   "execution_count": 92,
   "id": "624b2943-e110-494d-a55e-6a017e7f1394",
   "metadata": {},
   "outputs": [],
   "source": [
    "u = [1, 2, 3, 4, 5, 6, 7, 8, 9, 10]"
   ]
  },
  {
   "cell_type": "code",
   "execution_count": 93,
   "id": "c9398a30-e2b3-4488-a2ae-4b77c4ebec3c",
   "metadata": {},
   "outputs": [],
   "source": [
    "v = map(lambda x : str(x), u)"
   ]
  },
  {
   "cell_type": "code",
   "execution_count": 94,
   "id": "266b8818-d194-46e0-a719-3069b1c1e900",
   "metadata": {},
   "outputs": [
    {
     "data": {
      "text/plain": [
       "('1', '2', '3', '4', '5', '6', '7', '8', '9', '10')"
      ]
     },
     "execution_count": 94,
     "metadata": {},
     "output_type": "execute_result"
    }
   ],
   "source": [
    "tuple(v)"
   ]
  },
  {
   "cell_type": "code",
   "execution_count": 95,
   "id": "6ba8e495-9614-4232-8062-9f9bedef4bff",
   "metadata": {},
   "outputs": [],
   "source": [
    "#Q4.Write a python program using reduce function to compute the product of a list containing numbers\n",
    "#from 1 to 25."
   ]
  },
  {
   "cell_type": "code",
   "execution_count": 7,
   "id": "2855ff5e-eab7-4c64-bfda-219db6e2e1a3",
   "metadata": {},
   "outputs": [],
   "source": [
    "c = [1,2,3,4,5,6,7,8,9,10,11,12,13,14,15,16,17,18,19,20,21,22,23,24,25]"
   ]
  },
  {
   "cell_type": "code",
   "execution_count": 8,
   "id": "fd03dbba-5333-479f-b951-e9381a7e5c9a",
   "metadata": {},
   "outputs": [],
   "source": [
    "from functools import reduce"
   ]
  },
  {
   "cell_type": "code",
   "execution_count": 9,
   "id": "c1963fe1-31cd-4a2c-a476-8b6e9dd29678",
   "metadata": {},
   "outputs": [],
   "source": [
    "s = reduce(lambda a,b : a + b , c)"
   ]
  },
  {
   "cell_type": "code",
   "execution_count": 11,
   "id": "d186f6a5-5c0c-4748-ae37-d71ae4f04995",
   "metadata": {},
   "outputs": [
    {
     "data": {
      "text/plain": [
       "325"
      ]
     },
     "execution_count": 11,
     "metadata": {},
     "output_type": "execute_result"
    }
   ],
   "source": [
    "s"
   ]
  },
  {
   "cell_type": "code",
   "execution_count": 14,
   "id": "676394de-ae2f-46cf-b1b8-c2294b797c39",
   "metadata": {},
   "outputs": [],
   "source": [
    "#Q5.Write a python program to filter the numbers in a given list that are divisible by 2 and 3 using the\n",
    "#filter function.\n",
    "#[2, 3, 6, 9, 27, 60, 90, 120, 55, 46]"
   ]
  },
  {
   "cell_type": "code",
   "execution_count": 20,
   "id": "e84db30e-1781-458a-a828-02b347e68dad",
   "metadata": {},
   "outputs": [],
   "source": [
    "#IF NUMBER IS DIVISIBLE BY BOTH 2 \"AND\" 3"
   ]
  },
  {
   "cell_type": "code",
   "execution_count": 15,
   "id": "55caeee2-5faf-484d-b404-14afd16914aa",
   "metadata": {},
   "outputs": [],
   "source": [
    "x = [2, 3, 6, 9, 27, 60, 90, 120, 55, 46]"
   ]
  },
  {
   "cell_type": "code",
   "execution_count": 17,
   "id": "b8d6f170-6d82-4876-a6b2-c69118ec38cd",
   "metadata": {},
   "outputs": [],
   "source": [
    "s = filter(lambda a : a%2 == 0 and a%3 == 0, x)"
   ]
  },
  {
   "cell_type": "code",
   "execution_count": 19,
   "id": "60f010a0-6bbe-48a7-ba2a-598b19e3a09f",
   "metadata": {},
   "outputs": [
    {
     "data": {
      "text/plain": [
       "[6, 60, 90, 120]"
      ]
     },
     "execution_count": 19,
     "metadata": {},
     "output_type": "execute_result"
    }
   ],
   "source": [
    "list(s)"
   ]
  },
  {
   "cell_type": "code",
   "execution_count": 21,
   "id": "41685444-87af-40ad-8895-ea05fbda6448",
   "metadata": {},
   "outputs": [],
   "source": [
    "#IF NUMBER IS DIVISIBLE BY BOTH 2 \"OR\" 3"
   ]
  },
  {
   "cell_type": "code",
   "execution_count": 22,
   "id": "8b791021-ea15-404f-ba2a-046b0dbebcd7",
   "metadata": {},
   "outputs": [],
   "source": [
    "z = filter(lambda a : a%2 == 0 or a%3 == 0, x)"
   ]
  },
  {
   "cell_type": "code",
   "execution_count": 23,
   "id": "ac4af2fe-1b39-473d-9ac5-cdbf9a2603df",
   "metadata": {},
   "outputs": [
    {
     "data": {
      "text/plain": [
       "[2, 3, 6, 9, 27, 60, 90, 120, 46]"
      ]
     },
     "execution_count": 23,
     "metadata": {},
     "output_type": "execute_result"
    }
   ],
   "source": [
    "list(z)"
   ]
  },
  {
   "cell_type": "code",
   "execution_count": 24,
   "id": "58cee756-4b61-4251-af63-0e59bfcb5a7f",
   "metadata": {},
   "outputs": [],
   "source": [
    "#Q6.Write a python program to find palindromes in the given list of strings using lambda and filter\n",
    "#function.\n",
    "#['python', 'php', 'aba', 'radar', 'level']"
   ]
  },
  {
   "cell_type": "code",
   "execution_count": 28,
   "id": "35b8d4f6-6447-410f-83c2-6c4086c3f9d1",
   "metadata": {},
   "outputs": [],
   "source": [
    "v = ['python', 'php', 'aba', 'radar', 'level']"
   ]
  },
  {
   "cell_type": "code",
   "execution_count": 32,
   "id": "5364c688-1052-420a-a60f-064687b416a0",
   "metadata": {},
   "outputs": [],
   "source": [
    "k = filter(lambda y : y[0] == y[-1] and y[1] == y[-2] , v)"
   ]
  },
  {
   "cell_type": "code",
   "execution_count": 33,
   "id": "87ef2828-3b56-4373-9e90-88b40b81ec5f",
   "metadata": {},
   "outputs": [
    {
     "data": {
      "text/plain": [
       "['php', 'aba', 'radar', 'level']"
      ]
     },
     "execution_count": 33,
     "metadata": {},
     "output_type": "execute_result"
    }
   ],
   "source": [
    "list(k)"
   ]
  },
  {
   "cell_type": "markdown",
   "id": "015e103d-12b1-458a-8467-c230d0e78e2b",
   "metadata": {},
   "source": [
    "### THANK YOU"
   ]
  },
  {
   "cell_type": "code",
   "execution_count": null,
   "id": "eafa623b-f5cc-468b-97d6-bece17acc093",
   "metadata": {},
   "outputs": [],
   "source": []
  }
 ],
 "metadata": {
  "kernelspec": {
   "display_name": "Python 3 (ipykernel)",
   "language": "python",
   "name": "python3"
  },
  "language_info": {
   "codemirror_mode": {
    "name": "ipython",
    "version": 3
   },
   "file_extension": ".py",
   "mimetype": "text/x-python",
   "name": "python",
   "nbconvert_exporter": "python",
   "pygments_lexer": "ipython3",
   "version": "3.10.8"
  }
 },
 "nbformat": 4,
 "nbformat_minor": 5
}
