{
 "cells": [
  {
   "cell_type": "markdown",
   "id": "8a029aa4-36ef-42d9-a29c-667d580835d6",
   "metadata": {},
   "source": [
    "### ASSIGNMENT 1"
   ]
  },
  {
   "cell_type": "code",
   "execution_count": 1,
   "id": "a4c5b521-4eb7-40a8-906c-b826bbe82d2e",
   "metadata": {},
   "outputs": [],
   "source": [
    "#Q1.Create one variable containing following type of data:\n",
    "#(i)string\n",
    "#(ii)list\n",
    "#(iii)float\n",
    "#(iv)tuple"
   ]
  },
  {
   "cell_type": "code",
   "execution_count": 1,
   "id": "0e445e7e-ad48-468c-990d-1dd1934b3872",
   "metadata": {},
   "outputs": [],
   "source": [
    "#string\n",
    "a = \"pwskills\""
   ]
  },
  {
   "cell_type": "code",
   "execution_count": 3,
   "id": "f894efa1-64ee-42fc-b154-de61d0c2ebf5",
   "metadata": {},
   "outputs": [
    {
     "data": {
      "text/plain": [
       "str"
      ]
     },
     "execution_count": 3,
     "metadata": {},
     "output_type": "execute_result"
    }
   ],
   "source": [
    "type(a)"
   ]
  },
  {
   "cell_type": "code",
   "execution_count": 4,
   "id": "1eae40a7-da1b-45c2-b215-b6523058a031",
   "metadata": {},
   "outputs": [],
   "source": [
    "#list\n",
    "l = [1,24,23,\"akshay\",35.35,245.7,3+5j]"
   ]
  },
  {
   "cell_type": "code",
   "execution_count": 5,
   "id": "98d46b2b-9404-4e82-b235-38e15891ae46",
   "metadata": {},
   "outputs": [
    {
     "data": {
      "text/plain": [
       "list"
      ]
     },
     "execution_count": 5,
     "metadata": {},
     "output_type": "execute_result"
    }
   ],
   "source": [
    "type(l)"
   ]
  },
  {
   "cell_type": "code",
   "execution_count": 6,
   "id": "22e37705-f2c0-4886-b5f0-05b424d24627",
   "metadata": {},
   "outputs": [],
   "source": [
    "#float\n",
    "f = 35.325"
   ]
  },
  {
   "cell_type": "code",
   "execution_count": 7,
   "id": "60412442-39c0-4949-a602-cf5396eba481",
   "metadata": {},
   "outputs": [
    {
     "data": {
      "text/plain": [
       "float"
      ]
     },
     "execution_count": 7,
     "metadata": {},
     "output_type": "execute_result"
    }
   ],
   "source": [
    "type(f)"
   ]
  },
  {
   "cell_type": "code",
   "execution_count": 2,
   "id": "dda75f4f-9f23-4331-8577-cc4bf28d6f75",
   "metadata": {},
   "outputs": [],
   "source": [
    "#tuple\n",
    "t = (23,213,243,24.34,44.24,\"pwskills\",\"akshay\",5+45j)"
   ]
  },
  {
   "cell_type": "code",
   "execution_count": 3,
   "id": "6053b28a-1ed0-4b4b-b5f3-cd552702b7c2",
   "metadata": {},
   "outputs": [
    {
     "data": {
      "text/plain": [
       "tuple"
      ]
     },
     "execution_count": 3,
     "metadata": {},
     "output_type": "execute_result"
    }
   ],
   "source": [
    "type(t)"
   ]
  },
  {
   "cell_type": "code",
   "execution_count": 8,
   "id": "26391d4c-ab9b-48c3-9aee-6a3a96632cfa",
   "metadata": {},
   "outputs": [],
   "source": [
    "#Q2.Given are some following variables containing data:\n",
    "\n",
    "#(i)var1 = ‘ ‘\n",
    "\n",
    "#(ii)var2 = ‘[ DS , ML , Python]’\n",
    "\n",
    "#(iii)var3 = [ ‘DS’ , ’ML’ , ‘Python’ ]\n",
    "\n",
    "#(iv)var4 = 1.\n",
    "\n",
    "#What will be the data type of the above given variable."
   ]
  },
  {
   "cell_type": "code",
   "execution_count": 9,
   "id": "24303d7a-cd9a-4d1d-9d15-1a49ff409b3e",
   "metadata": {},
   "outputs": [],
   "source": [
    "var1 = \"\""
   ]
  },
  {
   "cell_type": "code",
   "execution_count": 10,
   "id": "d52f0023-8a8a-45ea-900f-b8390ec9552e",
   "metadata": {},
   "outputs": [
    {
     "data": {
      "text/plain": [
       "str"
      ]
     },
     "execution_count": 10,
     "metadata": {},
     "output_type": "execute_result"
    }
   ],
   "source": [
    "type(var1)"
   ]
  },
  {
   "cell_type": "code",
   "execution_count": 11,
   "id": "dae28ccb-a47c-4234-9ac3-a2aa912d909c",
   "metadata": {},
   "outputs": [],
   "source": [
    "var2 = \"[DS , ML , Python]\""
   ]
  },
  {
   "cell_type": "code",
   "execution_count": 12,
   "id": "166156ab-b47f-495f-9421-2d8cb1279cbb",
   "metadata": {},
   "outputs": [
    {
     "data": {
      "text/plain": [
       "str"
      ]
     },
     "execution_count": 12,
     "metadata": {},
     "output_type": "execute_result"
    }
   ],
   "source": [
    "type(var2)"
   ]
  },
  {
   "cell_type": "code",
   "execution_count": 13,
   "id": "d7703000-352a-4ab2-bd18-115c2921527e",
   "metadata": {},
   "outputs": [],
   "source": [
    "var3 = [\"DS\", \"ML\" , 'Python']"
   ]
  },
  {
   "cell_type": "code",
   "execution_count": 14,
   "id": "db02cfa0-7e9f-4cb5-8e86-8edc1aa34339",
   "metadata": {},
   "outputs": [
    {
     "data": {
      "text/plain": [
       "list"
      ]
     },
     "execution_count": 14,
     "metadata": {},
     "output_type": "execute_result"
    }
   ],
   "source": [
    "type(var3)"
   ]
  },
  {
   "cell_type": "code",
   "execution_count": 15,
   "id": "126190ac-a5c2-47cd-8646-5537d51f1757",
   "metadata": {},
   "outputs": [],
   "source": [
    "var4 = 1"
   ]
  },
  {
   "cell_type": "code",
   "execution_count": 16,
   "id": "809e9e8b-5120-427c-8679-29b73ec36c8d",
   "metadata": {},
   "outputs": [
    {
     "data": {
      "text/plain": [
       "int"
      ]
     },
     "execution_count": 16,
     "metadata": {},
     "output_type": "execute_result"
    }
   ],
   "source": [
    "type(var4)"
   ]
  },
  {
   "cell_type": "code",
   "execution_count": 17,
   "id": "d9446573-9492-4955-8883-f1abee1dbaa7",
   "metadata": {},
   "outputs": [],
   "source": [
    "#Q3.Explain the use of the following operators using an example:\n",
    "\n",
    "#(i)/\n",
    "\n",
    "#(ii)% \n",
    "\n",
    "#(iii)//\n",
    "\n",
    "#(iv)**"
   ]
  },
  {
   "cell_type": "code",
   "execution_count": 18,
   "id": "a8435b6d-4706-43e5-a897-34b4fc1af737",
   "metadata": {},
   "outputs": [
    {
     "data": {
      "text/plain": [
       "2.4"
      ]
     },
     "execution_count": 18,
     "metadata": {},
     "output_type": "execute_result"
    }
   ],
   "source": [
    "###1.)\"/\" operator is simple used as a 'DIVIDE OPERATOR'\n",
    "12/5"
   ]
  },
  {
   "cell_type": "code",
   "execution_count": 19,
   "id": "cf4eabf8-e371-4a20-9d4e-babed1e5bec7",
   "metadata": {},
   "outputs": [
    {
     "data": {
      "text/plain": [
       "3"
      ]
     },
     "execution_count": 19,
     "metadata": {},
     "output_type": "execute_result"
    }
   ],
   "source": [
    "###2.) \"%\" is defined as 'REMINDER OPERATOR'\n",
    "15%6"
   ]
  },
  {
   "cell_type": "code",
   "execution_count": 20,
   "id": "9c1543ca-7639-4574-87ce-19102501383b",
   "metadata": {},
   "outputs": [
    {
     "data": {
      "text/plain": [
       "3"
      ]
     },
     "execution_count": 20,
     "metadata": {},
     "output_type": "execute_result"
    }
   ],
   "source": [
    "###3.)\"//\" also used for dividing but returns only as integer not floating number\n",
    "13//4"
   ]
  },
  {
   "cell_type": "code",
   "execution_count": 22,
   "id": "72ccc573-403f-4579-8a2a-210369f5069d",
   "metadata": {},
   "outputs": [
    {
     "data": {
      "text/plain": [
       "125"
      ]
     },
     "execution_count": 22,
     "metadata": {},
     "output_type": "execute_result"
    }
   ],
   "source": [
    "###4.)\"**\" is used as \"power operator\"\n",
    "5**3"
   ]
  },
  {
   "cell_type": "code",
   "execution_count": 23,
   "id": "b0bc26c0-267a-4673-b7c2-43243d913cd9",
   "metadata": {},
   "outputs": [],
   "source": [
    "#Q4.Create a list of length 10 of your choice containing multiple types of data. Using for loop print the\n",
    "#element and its data type."
   ]
  },
  {
   "cell_type": "code",
   "execution_count": 24,
   "id": "d3e9622f-066a-45af-acc8-953b68ebc0e8",
   "metadata": {},
   "outputs": [
    {
     "name": "stdout",
     "output_type": "stream",
     "text": [
      "12\n",
      "<class 'int'>\n",
      "42\n",
      "<class 'int'>\n",
      "25\n",
      "<class 'int'>\n",
      "35\n",
      "<class 'int'>\n",
      "35\n",
      "<class 'int'>\n",
      "pwskills\n",
      "<class 'str'>\n",
      "data science\n",
      "<class 'str'>\n",
      "34.34\n",
      "<class 'float'>\n",
      "True\n",
      "<class 'bool'>\n",
      "(3+4j)\n",
      "<class 'complex'>\n"
     ]
    }
   ],
   "source": [
    "l1 = [12,42,25,35,35,\"pwskills\",\"data science\",34.34,True,3+4j]\n",
    "for i in l1:\n",
    "    print(i)\n",
    "    print(type(i))"
   ]
  },
  {
   "cell_type": "code",
   "execution_count": 25,
   "id": "a411f985-45b4-4ec1-915e-795eaff89de2",
   "metadata": {},
   "outputs": [],
   "source": [
    "#Q5.Using a while loop, verify if the number A is purely divisible by number B and if so then how many\n",
    "#times it can be divisible."
   ]
  },
  {
   "cell_type": "markdown",
   "id": "e78b1973-552c-4d8b-84d6-d5c66dfa2bc7",
   "metadata": {},
   "source": [
    "# sorry not able to solve question 5 please provide a solution"
   ]
  },
  {
   "cell_type": "code",
   "execution_count": 1,
   "id": "b2c2346b-9432-4d94-95b5-63ea3f4a0df9",
   "metadata": {},
   "outputs": [],
   "source": [
    "#Q6. Create a list containing 25 int type data. Using for loop and if-else condition print if the element is\n",
    "#divisible by 3 or not."
   ]
  },
  {
   "cell_type": "code",
   "execution_count": 7,
   "id": "bebf93be-2cc9-4d0a-9316-a177692941d6",
   "metadata": {},
   "outputs": [
    {
     "name": "stdout",
     "output_type": "stream",
     "text": [
      "[12]\n",
      "[24]\n",
      "not divisible by 3\n",
      "not divisible by 3\n",
      "not divisible by 3\n",
      "[567]\n",
      "not divisible by 3\n",
      "not divisible by 3\n",
      "[645]\n",
      "[657]\n",
      "not divisible by 3\n",
      "[4245]\n",
      "not divisible by 3\n",
      "not divisible by 3\n",
      "not divisible by 3\n",
      "[345]\n",
      "[234]\n",
      "[657]\n",
      "[687]\n",
      "[357]\n",
      "not divisible by 3\n",
      "[12]\n",
      "not divisible by 3\n",
      "not divisible by 3\n",
      "[99]\n"
     ]
    }
   ],
   "source": [
    "l1 = [12,24,355,35,353,567,67,4364,645,657,7,4245,809834,6436,577,345,234,657,687,357,865,12,43,67,99]\n",
    "for i in l1:\n",
    "    l2 = []\n",
    "    if i%3 == 0:\n",
    "        l2.append(i)\n",
    "        print(l2)\n",
    "    else:\n",
    "        print(\"not divisible by 3\")\n",
    "    "
   ]
  },
  {
   "cell_type": "code",
   "execution_count": 8,
   "id": "b9150fd5-863e-4515-84db-a5c1489af4a1",
   "metadata": {},
   "outputs": [],
   "source": [
    "#Q7. What do you understand about mutable and immutable data types? Give examples for both showing\n",
    "#this property.\n"
   ]
  },
  {
   "cell_type": "code",
   "execution_count": 9,
   "id": "ba86ce90-2d23-4fbb-a9e6-eaaff017a738",
   "metadata": {},
   "outputs": [],
   "source": [
    "#mutable data types are the data types in which the modification of index is possible\n",
    "#EG :- LIST\n",
    "l3 = [234,324,34,456,546,\"pwskills\",\"av\"]"
   ]
  },
  {
   "cell_type": "code",
   "execution_count": 10,
   "id": "2b825325-ee04-4827-a688-60666db45847",
   "metadata": {},
   "outputs": [
    {
     "data": {
      "text/plain": [
       "546"
      ]
     },
     "execution_count": 10,
     "metadata": {},
     "output_type": "execute_result"
    }
   ],
   "source": [
    "l3[4]"
   ]
  },
  {
   "cell_type": "code",
   "execution_count": 11,
   "id": "a3dd8c93-62ef-4fa2-a35e-f70bf5016336",
   "metadata": {},
   "outputs": [],
   "source": [
    "l3[4] = 999"
   ]
  },
  {
   "cell_type": "code",
   "execution_count": 12,
   "id": "01695a25-52b0-46d7-b2f5-0b73ab5de39b",
   "metadata": {},
   "outputs": [
    {
     "data": {
      "text/plain": [
       "999"
      ]
     },
     "execution_count": 12,
     "metadata": {},
     "output_type": "execute_result"
    }
   ],
   "source": [
    "l3[4]"
   ]
  },
  {
   "cell_type": "code",
   "execution_count": 13,
   "id": "d1e71920-e494-47df-8aa5-3ca8aad0c4d6",
   "metadata": {},
   "outputs": [
    {
     "data": {
      "text/plain": [
       "[234, 324, 34, 456, 999, 'pwskills', 'av']"
      ]
     },
     "execution_count": 13,
     "metadata": {},
     "output_type": "execute_result"
    }
   ],
   "source": [
    "l3"
   ]
  },
  {
   "cell_type": "code",
   "execution_count": 14,
   "id": "9cedad7d-bd51-4304-b7fb-9e3f362f142b",
   "metadata": {},
   "outputs": [],
   "source": [
    "#IMmutable data types are the data types in which the modification of index is NOT possible\n",
    "#EG :- STRING,TUPLES\n",
    "s = \"pwskills\""
   ]
  },
  {
   "cell_type": "code",
   "execution_count": 15,
   "id": "ebbeb3c5-4e2b-4022-b173-04b140f4ea9d",
   "metadata": {},
   "outputs": [
    {
     "data": {
      "text/plain": [
       "'pwskills'"
      ]
     },
     "execution_count": 15,
     "metadata": {},
     "output_type": "execute_result"
    }
   ],
   "source": [
    "s"
   ]
  },
  {
   "cell_type": "code",
   "execution_count": 16,
   "id": "027fc570-5bbe-42dd-bcfd-cde71937c77b",
   "metadata": {},
   "outputs": [
    {
     "data": {
      "text/plain": [
       "'k'"
      ]
     },
     "execution_count": 16,
     "metadata": {},
     "output_type": "execute_result"
    }
   ],
   "source": [
    "s[3]"
   ]
  },
  {
   "cell_type": "code",
   "execution_count": 17,
   "id": "2df72915-cbc5-44bd-ba30-e0c79740adf1",
   "metadata": {},
   "outputs": [
    {
     "ename": "TypeError",
     "evalue": "'str' object does not support item assignment",
     "output_type": "error",
     "traceback": [
      "\u001b[0;31m---------------------------------------------------------------------------\u001b[0m",
      "\u001b[0;31mTypeError\u001b[0m                                 Traceback (most recent call last)",
      "Cell \u001b[0;32mIn[17], line 1\u001b[0m\n\u001b[0;32m----> 1\u001b[0m \u001b[43ms\u001b[49m\u001b[43m[\u001b[49m\u001b[38;5;241;43m3\u001b[39;49m\u001b[43m]\u001b[49m \u001b[38;5;241m=\u001b[39m a\n",
      "\u001b[0;31mTypeError\u001b[0m: 'str' object does not support item assignment"
     ]
    }
   ],
   "source": [
    "s[3] = a"
   ]
  },
  {
   "cell_type": "code",
   "execution_count": 18,
   "id": "64a13e5c-f583-49d0-9eb6-2d31776caf49",
   "metadata": {},
   "outputs": [],
   "source": [
    "###thankyou pwskills "
   ]
  },
  {
   "cell_type": "code",
   "execution_count": null,
   "id": "9d0389d3-30d9-418f-8dc6-0fe07d53e83e",
   "metadata": {},
   "outputs": [],
   "source": []
  }
 ],
 "metadata": {
  "kernelspec": {
   "display_name": "Python 3 (ipykernel)",
   "language": "python",
   "name": "python3"
  },
  "language_info": {
   "codemirror_mode": {
    "name": "ipython",
    "version": 3
   },
   "file_extension": ".py",
   "mimetype": "text/x-python",
   "name": "python",
   "nbconvert_exporter": "python",
   "pygments_lexer": "ipython3",
   "version": "3.10.8"
  }
 },
 "nbformat": 4,
 "nbformat_minor": 5
}
