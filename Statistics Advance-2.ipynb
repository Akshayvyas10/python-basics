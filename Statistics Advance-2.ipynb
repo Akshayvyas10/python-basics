{
 "cells": [
  {
   "cell_type": "code",
   "execution_count": null,
   "id": "33f5e6b3-c2e1-4b64-b27e-4940b233b727",
   "metadata": {},
   "outputs": [],
   "source": [
    "#Q1: What are the Probability Mass Function (PMF) and Probability Density Function (PDF)? Explain with\n",
    "an example."
   ]
  },
  {
   "cell_type": "code",
   "execution_count": null,
   "id": "18b67176-c820-4ad2-af00-e03651145fd5",
   "metadata": {},
   "outputs": [],
   "source": [
    "'''\n",
    "Probability Mass Function (PMF) and Probability Density Function (PDF)\n",
    "\n",
    "Probability Mass Function (PMF)\n",
    "The PMF is used for discrete random variables. It gives the probability that the random variable will take on a specific value.\n",
    "Example: Flipping a fair coin twice. Let X be the number of heads. X can take on values 0, 1, or 2.\n",
    "\n",
    "P(X=0) = 1/4 (both tails)\n",
    "P(X=1) = 1/2 (one head, one tail)\n",
    "P(X=2) = 1/4 (both heads)\n",
    "The PMF for this example would be a table or function that maps each possible value of X (0, 1, 2) to its corresponding probability.\n",
    "\n",
    "Probability Density Function (PDF)\n",
    "The PDF is used for continuous random variables. Unlike PMF, it doesn't give the probability of a specific value, but rather the probability density at that point. To find the probability of a value falling within a specific range, you integrate the PDF over that range.\n",
    "Example: The height of adult males. Height is a continuous variable. The PDF for height would be a curve (often bell-shaped like the normal distribution). To find the probability that a randomly selected male is between 170cm and 180cm tall, you would calculate the area under the PDF curve between those two points.\n",
    "\n",
    "Key difference:\n",
    "\n",
    "PMF gives the exact probability of a specific value for a discrete random variable.\n",
    "PDF gives the probability density at a point for a continuous random variable. To find probabilities, you need to integrate the PDF over a range.'''"
   ]
  },
  {
   "cell_type": "code",
   "execution_count": null,
   "id": "4cb2c036-e03a-4d6b-8a3c-034160bd38f9",
   "metadata": {},
   "outputs": [],
   "source": [
    "#Q2: What is Cumulative Density Function (CDF)? Explain with an example. Why CDF is used?"
   ]
  },
  {
   "cell_type": "code",
   "execution_count": null,
   "id": "30c35e8e-0b53-44dd-9f7e-f1649dd5ee00",
   "metadata": {},
   "outputs": [],
   "source": [
    "'''\n",
    "Cumulative Distribution Function (CDF)\n",
    "\n",
    "The Cumulative Distribution Function (CDF) of a random variable X is the probability that X will take a value less than or equal to x. It is denoted by F(x).   \n",
    "\n",
    "Mathematically:\n",
    "F(x) = P(X ≤ x)\n",
    "\n",
    "Example:\n",
    "Let's consider the simple example of rolling a fair six-sided die. The random variable X represents the number that appears on the die.\n",
    "\n",
    "P(X ≤ 1) = 1/6 (probability of getting 1)   \n",
    "P(X ≤ 2) = 2/6 (probability of getting 1 or 2)\n",
    "P(X ≤ 3) = 3/6 (probability of getting 1, 2, or 3)\n",
    "...\n",
    "P(X ≤ 6) = 6/6 (probability of getting 1, 2, 3, 4, 5, or 6)\n",
    "The CDF for this example would be a step function increasing by 1/6 at each integer value from 1 to 6.\n",
    "\n",
    "Why Use CDF?\n",
    "\n",
    "Cumulative probabilities: It directly gives the probability of a random variable being less than or equal to a certain value.   \n",
    "Comparing distributions: CDFs can be used to compare different probability distributions.   \n",
    "Quantile calculation: Inverse CDF (quantile function) can be used to find values corresponding to specific probabilities.\n",
    "Calculating probabilities of intervals: The probability of X being between a and b is F(b) - F(a).'''"
   ]
  },
  {
   "cell_type": "code",
   "execution_count": null,
   "id": "12934214-b7ba-4a79-8c9a-bd0f4a405f34",
   "metadata": {},
   "outputs": [],
   "source": [
    "#Q3: What are some examples of situations where the normal distribution might be used as a model?\n",
    "Explain how the parameters of the normal distribution relate to the shape of the distribution."
   ]
  },
  {
   "cell_type": "code",
   "execution_count": null,
   "id": "c98a2c72-5ec9-4d69-8d5e-1c9118ad2db4",
   "metadata": {},
   "outputs": [],
   "source": [
    "'''\n",
    "Examples of Normal Distribution\n",
    "The normal distribution, often referred to as the bell curve, is a probability distribution that is symmetrical around its mean.\n",
    "Many natural phenomena and measurements in various fields follow this pattern.   \n",
    "\n",
    "Here are some examples:\n",
    "\n",
    "Physical attributes: Height, weight, blood pressure, IQ scores   \n",
    "Measurement errors: Errors in scientific measurements often follow a normal distribution.   \n",
    "Economic data: Stock prices, returns on investments\n",
    "Natural phenomena: Temperature, rainfall\n",
    "Manufacturing processes: Product dimensions\n",
    "\n",
    "Parameters of the Normal Distribution\n",
    "\n",
    "The normal distribution is defined by two parameters:\n",
    "\n",
    "Mean (μ): This represents the center of the distribution. It is the peak of the bell curve. \n",
    "A change in the mean shifts the entire curve to the left or right without changing its shape.   \n",
    "Standard deviation (σ): This measures the spread of the data. A larger standard deviation results in a wider, flatter curve,\n",
    "while a smaller standard deviation leads to a narrower, taller curve. '''"
   ]
  },
  {
   "cell_type": "code",
   "execution_count": null,
   "id": "8f8fe62f-f4c1-4aa1-a683-f273c0684733",
   "metadata": {},
   "outputs": [],
   "source": [
    "#Q4: Explain the importance of Normal Distribution. Give a few real-life examples of Normal Distribution."
   ]
  },
  {
   "cell_type": "code",
   "execution_count": null,
   "id": "227a34d2-c1ba-48d6-b7ed-403a95210c0e",
   "metadata": {},
   "outputs": [],
   "source": [
    "'''\n",
    "Importance of Normal Distribution\n",
    "The normal distribution, often called the bell curve, is a cornerstone in statistics and probability theory. \n",
    "Its significance lies in its ability to model a wide range of natural and social phenomena.   \n",
    "\n",
    "Central Limit Theorem: One of the most crucial reasons for its importance is the Central Limit Theorem. This theorem states that the distribution of sample means tends to follow a normal distribution regardless of the underlying population distribution as the sample size increases. This is fundamental to statistical inference.   \n",
    "Data Analysis and Modeling: Many statistical techniques, such as hypothesis testing, confidence intervals, and regression analysis, assume normality.   \n",
    "Predictive Modeling: Normal distribution is used in various predictive models, like forecasting sales, predicting stock prices, and weather patterns.\n",
    "Quality Control: It helps in setting quality standards and identifying outliers in manufacturing processes.  \n",
    "\n",
    "Real-Life Examples of Normal Distribution\n",
    "Human Characteristics: Height, weight, IQ scores often follow a normal distribution.   \n",
    "Natural Phenomena: Temperature, rainfall, and error in measurements tend to be normally distributed.\n",
    "Social Sciences: Exam scores, income distribution, and psychological test results frequently exhibit a normal pattern.\n",
    "Finance: Stock returns and asset prices often show characteristics of a normal distribution, although this assumption has been challenged in recent times due to events like the financial crisis.\n",
    "In essence, the normal distribution provides a robust framework for understanding and analyzing data, making it an indispensable tool in various fields.'''"
   ]
  },
  {
   "cell_type": "code",
   "execution_count": null,
   "id": "aae2bd47-d32c-412f-9138-6bc95dde63a9",
   "metadata": {},
   "outputs": [],
   "source": [
    "#Q5: What is Bernaulli Distribution? Give an Example. What is the difference between Bernoulli\n",
    "Distribution and Binomial Distribution?"
   ]
  },
  {
   "cell_type": "code",
   "execution_count": null,
   "id": "7359a030-e31f-40e4-a901-854abe772c74",
   "metadata": {},
   "outputs": [],
   "source": [
    "'''\n",
    "Bernoulli Distribution\n",
    "A Bernoulli distribution is a discrete probability distribution that describes a single trial with exactly two possible outcomes: success or failure.   \n",
    "\n",
    "Example: Flipping a coin once. The outcome can either be heads (success) or tails (failure).   \n",
    "Parameters:\n",
    "\n",
    "p: Probability of success (0 <= p <= 1)\n",
    "q: Probability of failure (q = 1 - p)   \n",
    "\n",
    "Bernoulli vs. Binomial Distribution\n",
    "While both Bernoulli and Binomial distributions deal with binary outcomes, they differ in the number of trials:\n",
    "\n",
    "Bernoulli Distribution: Describes a single trial with two possible outcomes.   \n",
    "Binomial Distribution: Describes the number of successes in a fixed number of independent Bernoulli trials.   \n",
    "\n",
    "Example:\n",
    "\n",
    "Bernoulli: Flipping a coin once (one trial).\n",
    "Binomial: Flipping a coin 10 times (multiple trials) and counting the number of heads.   \n",
    "In summary, a Bernoulli distribution is a special case of a binomial distribution where the number of trials (n) is equal to 1.'''"
   ]
  },
  {
   "cell_type": "code",
   "execution_count": null,
   "id": "16e993b9-422f-4fdf-9c7d-be57cde7dd2d",
   "metadata": {},
   "outputs": [],
   "source": [
    "#Q6. Consider a dataset with a mean of 50 and a standard deviation of 10. If we assume that the dataset\n",
    "is normally distributed, what is the probability that a randomly selected observation will be greater\n",
    "than 60? Use the appropriate formula and show your calculations."
   ]
  },
  {
   "cell_type": "code",
   "execution_count": null,
   "id": "e99861bf-e401-4fdf-a64a-fd8ace110547",
   "metadata": {},
   "outputs": [],
   "source": [
    "'''\n",
    "Assuming the dataset is normally distributed with a mean of 50 and a standard deviation of 10, we can use the cumulative distribution function (CDF) to calculate the probability of a randomly selected observation being greater than 60.\n",
    "\n",
    "The CDF gives the probability that a variable will be less than a certain value. In this case, we want the probability of a value being greater than 60, so we can calculate 1 minus the CDF of 60.\n",
    "\n",
    "Here's the formula and calculation:\n",
    "\n",
    "from scipy.stats import norm\n",
    "\n",
    "# Define parameters of the normal distribution\n",
    "mean = 50\n",
    "std_dev = 10\n",
    "\n",
    "# Probability of a value greater than 60\n",
    "# We can use the CDF (cumulative distribution function) to calculate this probability\n",
    "probability = 1 - norm.cdf(60, mean, std_dev)\n",
    "\n",
    "# Print the probability\n",
    "print(\"Probability of a value greater than 60:\", probability)\n",
    "\n",
    "This code outputs the following:\n",
    "Probability of a value greater than 60: 0.15865525393145707\n",
    "There is a 15.87% chance of observing a value greater than 60 in a normally distributed dataset with a mean of 50 and a standard deviation of 10.'''"
   ]
  },
  {
   "cell_type": "code",
   "execution_count": null,
   "id": "07d1231b-ec3f-4cd5-9732-f6c53c473ecf",
   "metadata": {},
   "outputs": [],
   "source": [
    "#Q7: Explain uniform Distribution with an example."
   ]
  },
  {
   "cell_type": "code",
   "execution_count": null,
   "id": "61cbd2a6-dcd1-4bfd-979d-0158ee8628f2",
   "metadata": {},
   "outputs": [],
   "source": [
    "'''\n",
    "Uniform Distribution\n",
    "A uniform distribution is a probability distribution where all outcomes are equally likely. \n",
    "This means that every possible value within a specific range has the same chance of occurring.\n",
    "\n",
    "Example: Rolling a Fair Die\n",
    "When you roll a fair six-sided die, each number (1, 2, 3, 4, 5, or 6) has an equal probability of appearing.\n",
    "This is a classic example of a uniform distribution.\n",
    "\n",
    "Key characteristics of a uniform distribution:\n",
    "\n",
    "All outcomes are equally likely.\n",
    "The probability density function (PDF) is a horizontal line within the defined range.\n",
    "The cumulative distribution function (CDF) is a linear function increasing from 0 to 1.'''"
   ]
  },
  {
   "cell_type": "code",
   "execution_count": null,
   "id": "e8a83607-f0a0-4a82-bed9-cc3c129bc7d2",
   "metadata": {},
   "outputs": [],
   "source": [
    "#Q8: What is the z score? State the importance of the z score."
   ]
  },
  {
   "cell_type": "code",
   "execution_count": null,
   "id": "44b44308-57d6-4ee4-9ac1-327f58086786",
   "metadata": {},
   "outputs": [],
   "source": [
    "'''\n",
    "Z-Score\n",
    "A z-score is a statistical measurement that indicates how many standard deviations a data point is from the mean of a group of values. It is a measure of how far a data point deviates from the norm.   \n",
    "\n",
    "Importance of Z-Score\n",
    "Z-scores are crucial in statistical analysis for several reasons:\n",
    "\n",
    "Standardization: Z-scores convert raw data into a standardized scale, allowing comparison between different datasets with different units or scales.   \n",
    "Outlier Detection: By identifying data points with extremely high or low z-scores, potential outliers can be detected.   \n",
    "Probability Calculations: Z-scores are used in conjunction with the standard normal distribution to calculate probabilities.   \n",
    "Data Normalization: Z-scores can help normalize data, which is essential for certain statistical techniques.   \n",
    "Hypothesis Testing: Z-tests rely on z-scores to determine statistical significance.   \n",
    "In essence, z-scores provide a standardized way to understand and analyze data, making them a fundamental tool in statistics. '''  \n",
    "\n"
   ]
  },
  {
   "cell_type": "code",
   "execution_count": null,
   "id": "c7cd07d5-be4c-4415-89d7-58808d82c779",
   "metadata": {},
   "outputs": [],
   "source": [
    "#Q9: What is Central Limit Theorem? State the significance of the Central Limit Theorem."
   ]
  },
  {
   "cell_type": "code",
   "execution_count": null,
   "id": "3a00fca3-4d3a-4cdb-80ec-58416542fc55",
   "metadata": {},
   "outputs": [],
   "source": [
    "'''\n",
    "Central Limit Theorem:-\n",
    "\n",
    "The Central Limit Theorem (CLT) states that the distribution of sample means approaches a normal distribution as the sample size gets larger, regardless of the population distribution.   \n",
    "\n",
    "In simpler terms, no matter what the shape of the original population distribution is, if you take enough random samples and calculate the mean of each sample, the distribution of those sample means will be approximately normal.   \n",
    "\n",
    "Significance of the Central Limit Theorem:-\n",
    "\n",
    "The Central Limit Theorem is a cornerstone of statistical inference. Its significance lies in:   \n",
    "\n",
    "Inference about population parameters: It allows us to make inferences about population parameters (like the mean) based on sample statistics, even if the population distribution is unknown.   \n",
    "Hypothesis testing: Many statistical tests assume normality, and the CLT justifies this assumption under certain conditions.\n",
    "Confidence intervals: The construction of confidence intervals for population means relies heavily on the CLT.   \n",
    "Sampling distribution of the mean: The CLT describes the behavior of the sampling distribution of the mean, which is essential for understanding how sample means vary from the population mean. '''  \n"
   ]
  },
  {
   "cell_type": "code",
   "execution_count": null,
   "id": "f98c0e60-bc35-49ab-8d4b-2a212ae40394",
   "metadata": {},
   "outputs": [],
   "source": [
    "#Q10: State the assumptions of the Central Limit Theorem."
   ]
  },
  {
   "cell_type": "code",
   "execution_count": null,
   "id": "a9679dc5-f061-4a77-8222-b1e559f8231b",
   "metadata": {},
   "outputs": [],
   "source": [
    "'''\n",
    "Assumptions of the Central Limit Theorem\n",
    "\n",
    "While the Central Limit Theorem is a powerful tool, it relies on certain assumptions:\n",
    "\n",
    "Independence: The observations within each sample should be independent of each other. This means that the value of one observation does not influence the value of another.   \n",
    "Identical Distribution: The observations within each sample should come from the same population and have the same distribution.\n",
    "Finite Variance: The population from which the samples are drawn should have a finite variance.   \n",
    "Sample Size: While the CLT generally works well with moderate sample sizes, a larger sample size tends to produce a distribution closer to normal. A common rule of thumb is that a sample size of 30 or more is often sufficient.''' "
   ]
  }
 ],
 "metadata": {
  "kernelspec": {
   "display_name": "Python 3 (ipykernel)",
   "language": "python",
   "name": "python3"
  },
  "language_info": {
   "codemirror_mode": {
    "name": "ipython",
    "version": 3
   },
   "file_extension": ".py",
   "mimetype": "text/x-python",
   "name": "python",
   "nbconvert_exporter": "python",
   "pygments_lexer": "ipython3",
   "version": "3.10.8"
  }
 },
 "nbformat": 4,
 "nbformat_minor": 5
}
