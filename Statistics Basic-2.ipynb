{
 "cells": [
  {
   "cell_type": "code",
   "execution_count": null,
   "id": "14934010-0f4d-4d05-acd0-414bdcb4669c",
   "metadata": {},
   "outputs": [],
   "source": [
    "#Q1. What are the three measures of central tendency?"
   ]
  },
  {
   "cell_type": "code",
   "execution_count": null,
   "id": "afc98438-fa4b-4f73-8652-4ed577f4d479",
   "metadata": {},
   "outputs": [],
   "source": [
    "'''\n",
    "The Three Measures of Central Tendency\n",
    "\n",
    "1. Mean\n",
    "Definition: The arithmetic average of a dataset.\n",
    "Calculation: Sum of all values divided by the number of values.   \n",
    "Example: Average age of students in a class.\n",
    "\n",
    "2. Median\n",
    "Definition: The middle value of a dataset when arranged in order.   \n",
    "Calculation: If the dataset has an odd number of values, the median is the middle value. \n",
    "If it has an even number of values, the median is the average of the two middle values.   \n",
    "Example: Median income of a population.\n",
    "\n",
    "3. Mode\n",
    "Definition: The most frequently occurring value in a dataset.\n",
    "Calculation: The value with the highest frequency.   \n",
    "Example: The most popular car color in a city.'''\n"
   ]
  },
  {
   "cell_type": "code",
   "execution_count": null,
   "id": "8976eebf-5166-417b-a658-cbea9f17040e",
   "metadata": {},
   "outputs": [],
   "source": [
    "#Q2. What is the difference between the mean, median, and mode? How are they used to measure the\n",
    "central tendency of a dataset?"
   ]
  },
  {
   "cell_type": "code",
   "execution_count": null,
   "id": "68ef7fed-7567-4d2f-978f-8ee802315e74",
   "metadata": {},
   "outputs": [],
   "source": [
    "'''\n",
    "Mean, Median, and Mode: A Comparison\n",
    "\n",
    "1.Mean\n",
    "The average of a dataset.\n",
    "Calculated by summing all values and dividing by the number of values.   \n",
    "Sensitive to outliers.   \n",
    "Best for symmetrical data without extreme values. \n",
    "\n",
    "2.Median\n",
    "The middle value of a dataset when sorted.   \n",
    "Less affected by outliers than the mean.   \n",
    "Best for skewed data or data with outliers.\n",
    "\n",
    "3.Mode\n",
    "The most frequent value in a dataset.   \n",
    "Can be used for both numerical and categorical data.   \n",
    "Not always unique (can have multiple modes or no mode).  \n",
    "\n",
    "#When to Use Which\n",
    "Mean: Suitable for symmetrical data without outliers.   \n",
    "Median: Suitable for skewed data or data with outliers.   \n",
    "Mode: Useful for identifying the most frequent category or value, especially for categorical data. \n",
    "\n",
    "Example:\n",
    "\n",
    "Consider a dataset of incomes: [20,000, 30,000, 35,000, 40,000, 1,000,000]\n",
    "\n",
    "Mean: Would be significantly influenced by the outlier (1,000,000), providing a misleading representation of the central tendency.\n",
    "Median: Would be a better representation as it is less affected by the outlier.\n",
    "Mode: Might not be relevant in this case as there are no repeated values"
   ]
  },
  {
   "cell_type": "code",
   "execution_count": null,
   "id": "787532c4-f42e-4b61-92ae-dacb4737a986",
   "metadata": {},
   "outputs": [],
   "source": [
    "#Q3. Measure the three measures of central tendency for the given height data:\n",
    "[178,177,176,177,178.2,178,175,179,180,175,178.9,176.2,177,172.5,178,176.5]"
   ]
  },
  {
   "cell_type": "code",
   "execution_count": null,
   "id": "981cbaab-0388-436f-9dd9-49a9999a2015",
   "metadata": {},
   "outputs": [],
   "source": [
    "'''\n",
    "The mean height is 177.02 centimeters. This is the average height of all the individuals in the dataset.\n",
    "\n",
    "The median height is 177.0 centimeters. This is the middle value when the data is arranged in ascending order.\n",
    "\n",
    "The mode height is 178 centimeters. This is the most frequent height in the dataset.\n",
    "                                                                                    '''"
   ]
  },
  {
   "cell_type": "code",
   "execution_count": null,
   "id": "8897a9b7-fd89-4923-a8b8-1b91aae76939",
   "metadata": {},
   "outputs": [],
   "source": [
    "#Q4. Find the standard deviation for the given data:\n",
    "[178,177,176,177,178.2,178,175,179,180,175,178.9,176.2,177,172.5,178,176.5]"
   ]
  },
  {
   "cell_type": "code",
   "execution_count": null,
   "id": "7c1585d9-5d04-43f6-b814-c76c4973ffa2",
   "metadata": {},
   "outputs": [],
   "source": [
    "'''\n",
    "The standard deviation is  1.79 for the given heights data.'''"
   ]
  },
  {
   "cell_type": "code",
   "execution_count": null,
   "id": "3d3d771e-bd61-472b-9458-33d38ebf28dc",
   "metadata": {},
   "outputs": [],
   "source": [
    "#Q5. How are measures of dispersion such as range, variance, and standard deviation used to describe\n",
    "the spread of a dataset? Provide an example."
   ]
  },
  {
   "cell_type": "code",
   "execution_count": null,
   "id": "4f617148-6691-41f1-9c4e-467f9604255a",
   "metadata": {},
   "outputs": [],
   "source": [
    "'''\n",
    "Measures of Dispersion\n",
    "Measures of dispersion describe how spread out the data is. Here are the common ones:\n",
    "\n",
    "Range\n",
    "Definition: The difference between the highest and lowest values in a dataset.\n",
    "Formula: Range = Maximum value - Minimum value\n",
    "Use: Quick and easy to calculate, but sensitive to outliers.\n",
    "\n",
    "Variance\n",
    "Definition: The average of the squared differences from the mean.\n",
    "Formula: Variance = Σ(x - μ)² / N, where x is a data point, μ is the mean, and N is the number of data points.\n",
    "Use: Provides a measure of how much the data is spread out from the mean, but the units are squared.\n",
    "\n",
    "Standard Deviation\n",
    "Definition: The square root of the variance.\n",
    "Formula: Standard deviation = √Variance\n",
    "Use: More interpretable than variance as it has the same units as the data. It's commonly used in statistical analysis.\n",
    "\n",
    "Example:\n",
    "Consider the following dataset: 2, 4, 5, 6, 8\n",
    "\n",
    "Range: 8 - 2 = 6\n",
    "Variance: [(2-5)² + (4-5)² + (5-5)² + (6-5)² + (8-5)²] / 5 = 4\n",
    "Standard deviation: √4 = 2 '''"
   ]
  },
  {
   "cell_type": "code",
   "execution_count": null,
   "id": "4a67c3dc-40d8-43ad-9b0e-72d4b6ed2f93",
   "metadata": {},
   "outputs": [],
   "source": [
    "#Q6. What is a Venn diagram?"
   ]
  },
  {
   "cell_type": "code",
   "execution_count": null,
   "id": "704feb59-d930-4a9e-b76b-90f1d51a8f7e",
   "metadata": {},
   "outputs": [],
   "source": [
    "'''\n",
    "A Venn diagram is a visual representation of the relationship between sets.\n",
    "It uses overlapping circles to show the commonalities and differences between groups of things.   \n",
    "\n",
    "Key components of a Venn diagram:\n",
    "\n",
    "Circles: Represent sets or groups of items.   \n",
    "Overlapping areas: Show elements that belong to multiple sets.   \n",
    "Non-overlapping areas: Represent elements unique to a specific set. '''\n"
   ]
  },
  {
   "cell_type": "code",
   "execution_count": null,
   "id": "a42c3403-0b48-4c9f-86d4-ada34feef582",
   "metadata": {},
   "outputs": [],
   "source": [
    "#Q7. For the two given sets A = (2,3,4,5,6,7) & B = (0,2,6,8,10). Find:\n",
    "(i) A ∩ B\n",
    "(ii) A ⋃ B"
   ]
  },
  {
   "cell_type": "code",
   "execution_count": null,
   "id": "2c43fa94-3eeb-4709-b266-acbd3c32e17d",
   "metadata": {},
   "outputs": [],
   "source": [
    "'''\n",
    "Given sets:\n",
    "\n",
    "A = {2, 3, 4, 5, 6, 7}\n",
    "B = {0, 2, 6, 8, 10}\n",
    "\n",
    "(i) A ∩ B (Intersection of A and B)\n",
    "\n",
    "The intersection of two sets contains the elements that are present in both sets.\n",
    "A ∩ B = {2, 6}\n",
    "\n",
    "(ii) A ⋃ B (Union of A and B)\n",
    "\n",
    "The union of two sets contains all the elements that are present in either set or both sets.\n",
    "A ⋃ B = {0, 2, 3, 4, 5, 6, 7, 8, 10} '''\n"
   ]
  },
  {
   "cell_type": "code",
   "execution_count": null,
   "id": "75095074-9242-4400-9dc1-572a5b3e2adb",
   "metadata": {},
   "outputs": [],
   "source": [
    "#Q8. What do you understand about skewness in data?"
   ]
  },
  {
   "cell_type": "code",
   "execution_count": null,
   "id": "3c8b9a66-0a75-45cb-bf62-4cbf699368f7",
   "metadata": {},
   "outputs": [],
   "source": [
    "'''\n",
    "Skewness in Data\n",
    "Skewness is a statistical measure that describes the asymmetry of the probability distribution of a dataset.\n",
    "It indicates whether the tail of a distribution is longer on the left or right side.   \n",
    "\n",
    "Types of Skewness\n",
    "\n",
    "Positive Skewness (right-skewed): The tail is longer on the right side. The mean is greater than the median.\n",
    "Example: Income distribution in a population (often skewed to the right, with a few high earners).   \n",
    "  \n",
    "Negative Skewness (left-skewed): The tail is longer on the left side. The mean is less than the median.\n",
    "Example: Exam scores where most students perform well (high scores) with a few low scores.\n",
    "  \n",
    "Zero Skewness (symmetrical): The distribution is symmetrical, and the mean, median, and mode are equal.\n",
    "Example: A normal distribution (bell-shaped curve).'''"
   ]
  },
  {
   "cell_type": "code",
   "execution_count": null,
   "id": "8713c882-aca5-4ffb-b591-77d08a0cfeb5",
   "metadata": {},
   "outputs": [],
   "source": [
    "#Q9. If a data is right skewed then what will be the position of median with respect to mean?"
   ]
  },
  {
   "cell_type": "code",
   "execution_count": null,
   "id": "b66d0105-26a9-4305-bc61-5548aea4390f",
   "metadata": {},
   "outputs": [],
   "source": [
    "'''\n",
    "Position of Median in Right-Skewed Data\n",
    "In a right-skewed distribution, the median is less than the mean.   \n",
    "\n",
    "This means that the median will be positioned to the left of the mean on a number line.\n",
    "\n",
    "Mean: Pulled to the right by the outliers.\n",
    "Median: Less affected by outliers, providing a better representation of the \"typical\" value.   \n",
    "This relationship between the mean and median is a key indicator of right-skewness.'''\n"
   ]
  },
  {
   "cell_type": "code",
   "execution_count": null,
   "id": "e16104f1-3246-4ad8-bfb4-4870ab7095e5",
   "metadata": {},
   "outputs": [],
   "source": [
    "#Q10. Explain the difference between covariance and correlation. How are these measures used in\n",
    "statistical analysis?"
   ]
  },
  {
   "cell_type": "code",
   "execution_count": null,
   "id": "e16258e2-e433-4814-b654-e60a1a93e8f7",
   "metadata": {},
   "outputs": [],
   "source": [
    "'''\n",
    "Covariance vs. Correlation\n",
    "\n",
    "Covariance\n",
    "\n",
    "Measures the relationship between two variables.\n",
    "Indicates the direction of the relationship (positive, negative, or no relationship).   \n",
    "Sensitive to the scale of the variables.   \n",
    "Can take on any value from negative infinity to positive infinity.   \n",
    "\n",
    "Correlation\n",
    "\n",
    "Measures both the strength and direction of the linear relationship between two variables.   \n",
    "Standardized value between -1 and 1.   \n",
    "-1 indicates a perfect negative correlation, 1 indicates a perfect positive correlation, and 0 indicates no correlation.  \n",
    "\n",
    "Key Differences:\n",
    "\n",
    "Scale: Covariance is not standardized, while correlation is standardized to a value between -1 and 1.   \n",
    "Interpretation: Correlation provides a more interpretable measure of the relationship strength.\n",
    "\n",
    "Example:\n",
    "\n",
    "If we are analyzing the relationship between ice cream sales and temperature, both covariance and correlation can be calculated. \n",
    "Covariance will tell us whether ice cream sales increase or decrease as temperature increases (positive or negative relationship).\n",
    "Correlation will tell us not only the direction but also the strength of this relationship (e.g., a strong positive correlation).   \n",
    "\n",
    "In conclusion, while both covariance and correlation measure the relationship between two variables, correlation is more commonly \n",
    "used due to its standardized scale and interpretability."
   ]
  },
  {
   "cell_type": "code",
   "execution_count": null,
   "id": "a339268e-2344-4f21-88ed-2bb457722864",
   "metadata": {},
   "outputs": [],
   "source": [
    "#Q11. What is the formula for calculating the sample mean? Provide an example calculation for a dataset."
   ]
  },
  {
   "cell_type": "code",
   "execution_count": null,
   "id": "1e748c36-0f46-46cb-95db-9facfbd295f3",
   "metadata": {},
   "outputs": [],
   "source": [
    "'''\n",
    "Formula for Sample Mean\n",
    "Sample Mean (x̄) = Σx / n\n",
    "\n",
    "Where:\n",
    "\n",
    "x̄ is the sample mean\n",
    "Σx is the sum of all values in the sample\n",
    "n is the number of values in the sample\n",
    "Example Calculation\n",
    "Let's calculate the sample mean for the following dataset:\n",
    "\n",
    "2, 4, 5, 6, 8\n",
    "\n",
    "Sum of values (Σx) = 2 + 4 + 5 + 6 + 8 = 25\n",
    "Number of values (n) = 5\n",
    "Sample mean (x̄) = 25 / 5 = 5\n",
    "\n",
    "Therefore, the sample mean for the given dataset is 5.'''"
   ]
  },
  {
   "cell_type": "code",
   "execution_count": null,
   "id": "cab189b6-5b35-46f3-aed6-619deff3f40e",
   "metadata": {},
   "outputs": [],
   "source": [
    "#Q12. For a normal distribution data what is the relationship between its measure of central tendency?"
   ]
  },
  {
   "cell_type": "code",
   "execution_count": null,
   "id": "8f835bdc-d8fa-423b-b976-44d3f3dfbf11",
   "metadata": {},
   "outputs": [],
   "source": [
    "'''\n",
    "Relationship Between Measures of Central Tendency in a Normal Distribution\n",
    "In a normal distribution, the mean, median, and mode are all equal.   \n",
    "\n",
    "This is a unique characteristic of the normal distribution, which is a symmetrical bell-shaped curve.\n",
    "The central tendency of the data is represented by a single value, which is the peak of the curve.   \n",
    "\n",
    "This property makes the normal distribution a widely used model in statistics and probability.'''"
   ]
  },
  {
   "cell_type": "code",
   "execution_count": null,
   "id": "033280b6-be82-41db-8c25-cb98017af21d",
   "metadata": {},
   "outputs": [],
   "source": [
    "#Q13. How is covariance different from correlation?"
   ]
  },
  {
   "cell_type": "code",
   "execution_count": null,
   "id": "40a35415-4ad7-4638-addd-f594c39ce256",
   "metadata": {},
   "outputs": [],
   "source": [
    "'''\n",
    "#Covariance vs. Correlation\n",
    "\n",
    "Covariance and correlation are both statistical measures that assess the relationship between two variables.\n",
    "However, they differ in their interpretation and scale.   \n",
    "\n",
    "#Covariance\n",
    "\n",
    "Measures the direction of the linear relationship between two variables.   \n",
    "Can be any value between negative infinity and positive infinity.   \n",
    "A positive covariance indicates a positive relationship, while a negative covariance indicates a negative relationship.   \n",
    "Sensitive to the scale of the variables.   \n",
    "\n",
    "#Correlation\n",
    "\n",
    "Measures both the strength and direction of the linear relationship between two variables.   \n",
    "Standardized value between -1 and 1.   \n",
    "-1 indicates a perfect negative correlation, 1 indicates a perfect positive correlation, and 0 indicates no correlation.'''"
   ]
  },
  {
   "cell_type": "code",
   "execution_count": null,
   "id": "79ed7571-1ff7-4b4e-8727-1be29185e74e",
   "metadata": {},
   "outputs": [],
   "source": [
    "#Q14. How do outliers affect measures of central tendency and dispersion? Provide an example."
   ]
  },
  {
   "cell_type": "code",
   "execution_count": null,
   "id": "2571d8eb-3e3a-4fce-bb5f-a15d57b149db",
   "metadata": {},
   "outputs": [],
   "source": [
    "'''\n",
    "How Outliers Affect Measures of Central Tendency and Dispersion\n",
    "Outliers are data points that significantly differ from other observations in a dataset. \n",
    "They can significantly impact statistical measures.   \n",
    "\n",
    "Impact on Measures of Central Tendency\n",
    "Mean: Highly sensitive to outliers. An extremely large or small outlier can dramatically increase or decrease the mean, respectively.   \n",
    "Median: Less affected by outliers as it represents the middle value. Outliers typically have minimal impact on the median.   \n",
    "Mode: Generally unaffected by outliers unless the outlier becomes the most frequent value.   \n",
    "Impact on Measures of Dispersion\n",
    "Range: Highly sensitive to outliers as it depends on the maximum and minimum values.   \n",
    "Variance and Standard Deviation: Significantly affected by outliers as they involve squared deviations from the mean.\n",
    "Outliers contribute to larger values for variance and standard deviation.   \n",
    "\n",
    "Example:\n",
    "\n",
    "Consider the dataset: 2, 3, 4, 5, 100. The value 100 is an outlier.\n",
    "\n",
    "Mean: Significantly increased due to the outlier.\n",
    "Median: Less affected, representing the middle value (4).\n",
    "Range: Significantly increased due to the outlier.\n",
    "Variance and Standard Deviation: Significantly increased due to the outlier.\n",
    "In such cases, it's often recommended to use robust statistical methods that are less affected by outliers, such as trimmed means \n",
    "or interquartile range.'''"
   ]
  }
 ],
 "metadata": {
  "kernelspec": {
   "display_name": "Python 3 (ipykernel)",
   "language": "python",
   "name": "python3"
  },
  "language_info": {
   "codemirror_mode": {
    "name": "ipython",
    "version": 3
   },
   "file_extension": ".py",
   "mimetype": "text/x-python",
   "name": "python",
   "nbconvert_exporter": "python",
   "pygments_lexer": "ipython3",
   "version": "3.10.8"
  }
 },
 "nbformat": 4,
 "nbformat_minor": 5
}
