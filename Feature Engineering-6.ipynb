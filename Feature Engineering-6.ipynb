{
  "metadata": {
    "kernelspec": {
      "name": "python",
      "display_name": "Python (Pyodide)",
      "language": "python"
    },
    "language_info": {
      "name": ""
    }
  },
  "nbformat_minor": 4,
  "nbformat": 4,
  "cells": [
    {
      "cell_type": "code",
      "source": "#Q1. Pearson correlation coefficient is a measure of the linear relationship between two variables. Suppose\nyou have collected data on the amount of time students spend studying for an exam and their final exam\nscores. Calculate the Pearson correlation coefficient between these two variables and interpret the result.",
      "metadata": {
        "trusted": true
      },
      "outputs": [],
      "execution_count": null
    },
    {
      "cell_type": "code",
      "source": "'''\nCalculating and Interpreting Pearson Correlation Coefficient\nNote: To provide a specific calculation and interpretation, I'd need the actual data on study time and final exam scores. However, I can outline the general process.\n\nCalculating Pearson Correlation Coefficient\nThe Pearson correlation coefficient (r) is calculated using the following formula:\nr = Σ[(xi - x̄)(yi - ȳ)] / √[Σ(xi - x̄)² * Σ(yi - ȳ)²]\n\nwhere:\nxi and yi are individual data points for study time and final exam scores, respectively.\nx̄ and ȳ are the means of study time and final exam scores, respectively.\n\nInterpreting the Result\nThe Pearson correlation coefficient ranges from -1 to 1:\nr = 1: Perfect positive correlation, indicating a strong direct relationship between the two variables.\nr = -1: Perfect negative correlation, indicating a strong inverse relationship between the two variables.\nr = 0: No correlation, indicating no linear relationship between the two variables.\n\nExample:\nIf you calculate the Pearson correlation coefficient between study time and final exam scores and obtain a value of 0.8, \nthis would indicate a strong positive correlation. It suggests that students who study more tend to have higher final exam scores, and vice versa.'''",
      "metadata": {
        "trusted": true
      },
      "outputs": [],
      "execution_count": null
    },
    {
      "cell_type": "code",
      "source": "#Q2. Spearman's rank correlation is a measure of the monotonic relationship between two variables.\nSuppose you have collected data on the amount of sleep individuals get each night and their overall job\nsatisfaction level on a scale of 1 to 10. Calculate the Spearman's rank correlation between these two\nvariables and interpret the result.",
      "metadata": {
        "trusted": true
      },
      "outputs": [],
      "execution_count": null
    },
    {
      "cell_type": "code",
      "source": "'''\nCalculating and Interpreting Spearman's Rank Correlation\n\nCalculating Spearman's Rank Correlation\nRank the data: Rank each variable separately from lowest to highest. If there are ties, assign the average rank.\nCalculate the difference in ranks: For each pair of data points, calculate the difference between the ranks of the two variables.\nSquare the differences: Square each difference.\nSum the squared differences: Sum all the squared differences.\n\nCalculate Spearman's rank correlation coefficient (ρ):\nρ = 1 - 6Σd²/n(n²-1)\nwhere d is the difference in ranks and n is the number of data points.\n\nInterpreting the Result\nThe Spearman's rank correlation coefficient ranges from -1 to 1:\n\nρ = 1: Perfect positive monotonic relationship, indicating that the two variables increase or decrease together in a consistent manner.\nρ = -1: Perfect negative monotonic relationship, indicating that one variable increases as the other decreases in a consistent manner.\nρ = 0: No monotonic relationship, indicating that there is no consistent pattern in the way the two variables change together.\n\nExample:\n\nIf you calculate Spearman's rank correlation between sleep duration and job satisfaction and obtain a value of 0.7, this would indicate a strong positive monotonic relationship.\nIt suggests that individuals who get more sleep tend to have higher job satisfaction levels, and vice versa, even if the relationship is not strictly linear.'''",
      "metadata": {
        "trusted": true
      },
      "outputs": [],
      "execution_count": null
    },
    {
      "cell_type": "code",
      "source": "#Q3. Suppose you are conducting a study to examine the relationship between the number of hours of\nexercise per week and body mass index (BMI) in a sample of adults. You collected data on both variables\nfor 50 participants. Calculate the Pearson correlation coefficient and the Spearman's rank correlation\nbetween these two variables and compare the results.",
      "metadata": {
        "trusted": true
      },
      "outputs": [],
      "execution_count": null
    },
    {
      "cell_type": "code",
      "source": "'''\nCalculating and Comparing Pearson and Spearman Correlations\n\nData Preparation\nOrganize the data: Create two lists or arrays: one for hours of exercise and one for BMI.\n\nCalculations\nPearson Correlation:\nCalculate the Pearson correlation coefficient using the formula from Question 1.\n\nSpearman's Rank Correlation:\nCalculate the Spearman's rank correlation coefficient using the formula from Question 2.\n\nComparison\nAnalyze the results: Compare the values of the Pearson and Spearman correlation coefficients.\n\nInterpretation\nIf both coefficients are similar: This suggests a strong linear or monotonic relationship between the two variables.\nIf the Pearson coefficient is significantly different from the Spearman coefficient: This indicates that the relationship between the variables might not be strictly linear, but there's still a monotonic relationship.\n\nExample:\n\nIf you calculate the Pearson correlation coefficient to be 0.8 and the Spearman's rank correlation to be 0.85, this suggests a \nstrong positive relationship between hours of exercise and BMI, and the relationship is likely monotonic, even if it's not perfectly linear.'''",
      "metadata": {
        "trusted": true
      },
      "outputs": [],
      "execution_count": null
    },
    {
      "cell_type": "code",
      "source": "#Q4. A researcher is interested in examining the relationship between the number of hours individuals\nspend watching television per day and their level of physical activity. The researcher collected data on\nboth variables from a sample of 50 participants. Calculate the Pearson correlation coefficient between\nthese two variables.",
      "metadata": {
        "trusted": true
      },
      "outputs": [],
      "execution_count": null
    },
    {
      "cell_type": "code",
      "source": "'''General Approach Using Python (assuming you have the data in a Pandas DataFrame):\n\nimport pandas as pd\nimport numpy as np\n\n# Assuming your data is in a DataFrame named 'data' with columns 'TV_Hours' and 'Physical_Activity'\npearson_corr = data['TV_Hours'].corr(data['Physical_Activity'])\n\nprint(\"Pearson correlation coefficient:\", pearson_corr)\n\nInterpretation:\n  \nA positive correlation coefficient (closer to 1) indicates that as individuals watch more television, they tend to be less physically active.\nA negative correlation coefficient (closer to -1) indicates that as individuals watch more television, they tend to be more physically active.\nA correlation coefficient close to 0 indicates a weak or no correlation between the two variables.'''",
      "metadata": {
        "trusted": true
      },
      "outputs": [],
      "execution_count": null
    },
    {
      "cell_type": "code",
      "source": "#Q5. A survey was conducted to examine the relationship between age and preference for a particular\nbrand of soft drink. The survey results are shown below:\n\nAge(Years)                         Soft Drinks Preference                                                                                                                              25\n25                                  Coke\n42                                  Pepsi\n37                                  Mountain Dew\n19                                  Coke\n31                                  Pepsi\n28                                  Coke",
      "metadata": {
        "trusted": true
      },
      "outputs": [],
      "execution_count": null
    },
    {
      "cell_type": "code",
      "source": "'''\nData Analysis:\n\nBased on the provided data, we can see a small sample of age groups and their corresponding soft drink preferences. \nWhile this limited dataset doesn't allow for a comprehensive statistical analysis, we can make some preliminary observations:\n\nAge Diversity: The sample includes a range of ages from 19 to 42, suggesting some variation in age distribution.\nPreference Distribution: The preferences are relatively balanced among the three brands, with no clear dominant preference.\n\nPotential Further Analysis:\n\nTo gain a more accurate understanding of the relationship between age and soft drink preference, it would be beneficial to collect more data.\nWith a larger sample size, we could employ statistical methods like:\n\nChi-Square Test: Determine if there's a significant association between age and soft drink preference.\nCorrelation Analysis: If we had numerical data for age (e.g., continuous variable instead of age groups), we could calculate correlation coefficients to measure the strength of the relationship.\nRegression Analysis: If we had more variables (e.g., gender, income), we could conduct regression analysis to examine how these factors influence soft drink preference in relation to age.'''",
      "metadata": {
        "trusted": true
      },
      "outputs": [],
      "execution_count": null
    },
    {
      "cell_type": "code",
      "source": "#Q6. A company is interested in examining the relationship between the number of sales calls made per day\nand the number of sales made per week. The company collected data on both variables from a sample of\n30 sales representatives. Calculate the Pearson correlation coefficient between these two variables.",
      "metadata": {
        "trusted": true
      },
      "outputs": [],
      "execution_count": null
    },
    {
      "cell_type": "code",
      "source": "'''\nGeneral Approach Using Python (assuming you have the data in a Pandas DataFrame):\n\nimport pandas as pd\nimport numpy as np\n\n# Assuming your data is in a DataFrame named 'data' with columns 'Sales_Calls' and 'Sales_Made'\npearson_corr = data['Sales_Calls'].corr(data['Sales_Made'])\n\nprint(\"Pearson correlation coefficient:\", pearson_corr)\n\nInterpretation:\n\nA positive correlation coefficient (closer to 1) indicates that as sales representatives make more calls, they tend to make more sales.\nA negative correlation coefficient (closer to -1) indicates that as sales representatives make more calls, they tend to make fewer sales (which would be unusual in this context).\nA correlation coefficient close to 0 indicates a weak or no correlation between the two variables.'''",
      "metadata": {
        "trusted": true
      },
      "outputs": [],
      "execution_count": null
    }
  ]
}