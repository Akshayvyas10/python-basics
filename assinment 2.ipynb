{
 "cells": [
  {
   "cell_type": "markdown",
   "id": "853f940e-0837-46ca-bdc4-46925c3fbd72",
   "metadata": {},
   "source": [
    "### ASSIGNMENT 2"
   ]
  },
  {
   "cell_type": "code",
   "execution_count": 1,
   "id": "2d7b0197-b9bc-4ca4-a587-c58f73e36ad7",
   "metadata": {},
   "outputs": [],
   "source": [
    "#Q1.How do you comment code in Python? What are the different types of comments?"
   ]
  },
  {
   "cell_type": "raw",
   "id": "121b43bb-44f9-4496-8bba-7630ab72343c",
   "metadata": {},
   "source": [
    "Ans:THERE ARE VARIOUR TYPES/METHOD TO COMMENT IN PYTHON \n",
    "1) SINGLE LINE COMMENT USING \"#\"\n",
    "2) MULTY LINE COMMENT USING TRIPLE QUOTES(\"\"\"\"\"\")\n",
    "3) DOCSTRING WHILE WRITTING FUNCTION"
   ]
  },
  {
   "cell_type": "code",
   "execution_count": 2,
   "id": "41b60290-a642-4b89-864f-5eb4734db0b7",
   "metadata": {},
   "outputs": [],
   "source": [
    "#Q2.What are variables in Python? How do you declare and assign values to variables?"
   ]
  },
  {
   "cell_type": "raw",
   "id": "0c95ec3f-c61e-4a9b-83b6-878287e02fe9",
   "metadata": {},
   "source": [
    "\"VARIBLES ARE USED TO ASSIGN ANY VALUES OR DATA IN PYTHON\"\n",
    "FOR EX: a = 10 \n",
    "IN THE ABOVE EXAMPLE \"a\" IS A VARIABLE, WHICH IS ASSIGNED A VALUE \"10\" IN THIS CASE"
   ]
  },
  {
   "cell_type": "code",
   "execution_count": 3,
   "id": "f8cba2f1-1a58-4bd0-a275-b92cf4455bc9",
   "metadata": {},
   "outputs": [],
   "source": [
    "#Q3.How do you convert one data type to another in Python?"
   ]
  },
  {
   "cell_type": "raw",
   "id": "13b9442a-5441-4099-b2a9-16a1f5ec01f6",
   "metadata": {},
   "source": [
    "CHANGING ONE DATA TYPE TO ANOTHER IS DEFINED AS \"TYPECASTING\"\n",
    "EXAMPLE BELOW "
   ]
  },
  {
   "cell_type": "code",
   "execution_count": 4,
   "id": "d4dcdf58-d245-4912-a889-9e580cb2a191",
   "metadata": {},
   "outputs": [],
   "source": [
    "a = 10"
   ]
  },
  {
   "cell_type": "code",
   "execution_count": 5,
   "id": "58b5243c-b56a-4cd8-8224-6518a9a6ab6a",
   "metadata": {},
   "outputs": [
    {
     "data": {
      "text/plain": [
       "int"
      ]
     },
     "execution_count": 5,
     "metadata": {},
     "output_type": "execute_result"
    }
   ],
   "source": [
    "type(a)"
   ]
  },
  {
   "cell_type": "code",
   "execution_count": 6,
   "id": "c1c75579-50e0-441f-9bec-e1ad1e0f3f8e",
   "metadata": {},
   "outputs": [
    {
     "data": {
      "text/plain": [
       "'10'"
      ]
     },
     "execution_count": 6,
     "metadata": {},
     "output_type": "execute_result"
    }
   ],
   "source": [
    "str(a)"
   ]
  },
  {
   "cell_type": "code",
   "execution_count": 8,
   "id": "31762b7c-f8e1-4872-9fcf-e0e9e4daec70",
   "metadata": {},
   "outputs": [
    {
     "data": {
      "text/plain": [
       "str"
      ]
     },
     "execution_count": 8,
     "metadata": {},
     "output_type": "execute_result"
    }
   ],
   "source": [
    "type('10')"
   ]
  },
  {
   "cell_type": "code",
   "execution_count": null,
   "id": "8464fe23-d975-4a95-aa35-d4ef8be9e03b",
   "metadata": {},
   "outputs": [],
   "source": [
    "#Q4.How do you write and execute a Python script from the command line?"
   ]
  },
  {
   "cell_type": "raw",
   "id": "767430ed-2fd3-4c26-9f19-1ab98ffd7ca5",
   "metadata": {},
   "source": [
    "NOT ABLE TO ANSWER,PLEASE PROVIDE THE ANSWER"
   ]
  },
  {
   "cell_type": "code",
   "execution_count": null,
   "id": "68f58186-e9a5-4784-bac8-5dd2cc85ab9c",
   "metadata": {},
   "outputs": [],
   "source": [
    "#Q5. Given a list my_list = [1, 2, 3, 4, 5], write the code to slice the list and obtain the sub-list [2, 3]."
   ]
  },
  {
   "cell_type": "code",
   "execution_count": 13,
   "id": "d68eb666-1b8c-4825-92df-80796518fd96",
   "metadata": {},
   "outputs": [],
   "source": [
    "my_list = [1,2,3,4,5]"
   ]
  },
  {
   "cell_type": "code",
   "execution_count": 14,
   "id": "e2fa6376-26a5-4aea-8601-f2cfe64276f4",
   "metadata": {},
   "outputs": [
    {
     "data": {
      "text/plain": [
       "[1, 2, 3, 4, 5]"
      ]
     },
     "execution_count": 14,
     "metadata": {},
     "output_type": "execute_result"
    }
   ],
   "source": [
    "my_list"
   ]
  },
  {
   "cell_type": "code",
   "execution_count": 18,
   "id": "b278a727-37da-48c7-b023-964bde43bb25",
   "metadata": {},
   "outputs": [],
   "source": [
    "sub_list = my_list[1:3:1]"
   ]
  },
  {
   "cell_type": "code",
   "execution_count": 19,
   "id": "f7b6dbe1-153b-4929-8458-a239722054c0",
   "metadata": {},
   "outputs": [
    {
     "data": {
      "text/plain": [
       "[2, 3]"
      ]
     },
     "execution_count": 19,
     "metadata": {},
     "output_type": "execute_result"
    }
   ],
   "source": [
    "sub_list"
   ]
  },
  {
   "cell_type": "code",
   "execution_count": 1,
   "id": "87733650-f965-432c-a41d-e502649c59ae",
   "metadata": {},
   "outputs": [],
   "source": [
    "#Q6.What is a complex number in mathematics, and how is it represented in Python?"
   ]
  },
  {
   "cell_type": "raw",
   "id": "33b2d0df-d52d-45ff-bc87-3f9d4dcbe158",
   "metadata": {},
   "source": [
    "COMPLEX NUMBER : WHICH CONSIST OF TWO PARTS \n",
    "1)REAL\n",
    "2)IMAGNARY\n",
    "USUALLY REPRESENTED IN MATHS AS \"X + Yi\" \n",
    "EX: '4+6i'\n",
    "IN PYTHON COMPLEX NUMBERS ARE REPRESENTED AS BELOW"
   ]
  },
  {
   "cell_type": "code",
   "execution_count": 2,
   "id": "7f001afe-cc4e-48bb-afea-72102b88dc3a",
   "metadata": {},
   "outputs": [],
   "source": [
    "c = 45+56j"
   ]
  },
  {
   "cell_type": "code",
   "execution_count": 3,
   "id": "2a403301-23ce-4364-9bbf-4c256136d465",
   "metadata": {},
   "outputs": [
    {
     "data": {
      "text/plain": [
       "complex"
      ]
     },
     "execution_count": 3,
     "metadata": {},
     "output_type": "execute_result"
    }
   ],
   "source": [
    "type(c)"
   ]
  },
  {
   "cell_type": "code",
   "execution_count": 4,
   "id": "2092282f-b39b-4387-8a69-085ce45337f8",
   "metadata": {},
   "outputs": [],
   "source": [
    "#Q7.What is the correct way to declare a variable named age and assign the value 25 to it?"
   ]
  },
  {
   "cell_type": "code",
   "execution_count": 5,
   "id": "e0a33614-7e7a-44f6-9910-dedf28d2a237",
   "metadata": {},
   "outputs": [],
   "source": [
    "#correct way ro declare and assign value to a variable\n",
    "age = 25"
   ]
  },
  {
   "cell_type": "code",
   "execution_count": 6,
   "id": "f551d0a8-97e9-49ab-b35c-56cfffb06e51",
   "metadata": {},
   "outputs": [
    {
     "data": {
      "text/plain": [
       "25"
      ]
     },
     "execution_count": 6,
     "metadata": {},
     "output_type": "execute_result"
    }
   ],
   "source": [
    "age"
   ]
  },
  {
   "cell_type": "code",
   "execution_count": 7,
   "id": "d244e986-7920-4713-965a-fde39c5356eb",
   "metadata": {},
   "outputs": [
    {
     "data": {
      "text/plain": [
       "int"
      ]
     },
     "execution_count": 7,
     "metadata": {},
     "output_type": "execute_result"
    }
   ],
   "source": [
    "type(age)"
   ]
  },
  {
   "cell_type": "code",
   "execution_count": null,
   "id": "ea04e5e5-603c-41a6-a289-b2a74ab6e429",
   "metadata": {},
   "outputs": [],
   "source": [
    "#Q8.Declare a variable named price and assign the value 9.99 to it. What data type does this variable\n",
    "#belong to?"
   ]
  },
  {
   "cell_type": "code",
   "execution_count": 8,
   "id": "aab80ef0-7ec2-4ee7-b985-e8a43c40b372",
   "metadata": {},
   "outputs": [],
   "source": [
    "#declare variable and assign value to it\n",
    "price = 9.99"
   ]
  },
  {
   "cell_type": "code",
   "execution_count": 9,
   "id": "790aadd3-1305-49e5-8f45-6174df2547e3",
   "metadata": {},
   "outputs": [
    {
     "data": {
      "text/plain": [
       "9.99"
      ]
     },
     "execution_count": 9,
     "metadata": {},
     "output_type": "execute_result"
    }
   ],
   "source": [
    "price"
   ]
  },
  {
   "cell_type": "code",
   "execution_count": 10,
   "id": "2770ca7c-8b6d-450d-bcca-16373690befb",
   "metadata": {},
   "outputs": [
    {
     "data": {
      "text/plain": [
       "float"
      ]
     },
     "execution_count": 10,
     "metadata": {},
     "output_type": "execute_result"
    }
   ],
   "source": [
    "type(price)"
   ]
  },
  {
   "cell_type": "code",
   "execution_count": null,
   "id": "541c0a82-cea3-46df-8bbb-ddd1f31f33b4",
   "metadata": {},
   "outputs": [],
   "source": [
    "#Q9. Create a variable named name and assign your full name to it as a string. How would you print the\n",
    "#value of this variable?"
   ]
  },
  {
   "cell_type": "code",
   "execution_count": 11,
   "id": "cc701122-4976-43a2-923b-eeab17a4704b",
   "metadata": {},
   "outputs": [],
   "source": [
    "name = \"akshay vyas\""
   ]
  },
  {
   "cell_type": "code",
   "execution_count": 12,
   "id": "e007aa75-d8c9-4465-b383-cc4b6bfc0ade",
   "metadata": {},
   "outputs": [
    {
     "data": {
      "text/plain": [
       "'akshay vyas'"
      ]
     },
     "execution_count": 12,
     "metadata": {},
     "output_type": "execute_result"
    }
   ],
   "source": [
    "name"
   ]
  },
  {
   "cell_type": "code",
   "execution_count": 13,
   "id": "616ba383-7733-40b7-a8bc-577eb6121a7b",
   "metadata": {},
   "outputs": [
    {
     "data": {
      "text/plain": [
       "str"
      ]
     },
     "execution_count": 13,
     "metadata": {},
     "output_type": "execute_result"
    }
   ],
   "source": [
    "type(name)"
   ]
  },
  {
   "cell_type": "code",
   "execution_count": 14,
   "id": "69c59585-0628-4c12-8c03-f509504914b8",
   "metadata": {},
   "outputs": [],
   "source": [
    "#Q10.Given the string \"Hello, World!\", extract the substring \"World\"."
   ]
  },
  {
   "cell_type": "code",
   "execution_count": 15,
   "id": "3679f221-deaf-498d-a9cf-613a239bf9d0",
   "metadata": {},
   "outputs": [],
   "source": [
    "s = \"Hello, World!\""
   ]
  },
  {
   "cell_type": "code",
   "execution_count": 16,
   "id": "8604b931-4570-41e2-95d8-93df71880dc4",
   "metadata": {},
   "outputs": [
    {
     "data": {
      "text/plain": [
       "'Hello, World!'"
      ]
     },
     "execution_count": 16,
     "metadata": {},
     "output_type": "execute_result"
    }
   ],
   "source": [
    "s"
   ]
  },
  {
   "cell_type": "code",
   "execution_count": 19,
   "id": "a52ffd14-c680-4813-b748-66ac81038228",
   "metadata": {},
   "outputs": [
    {
     "data": {
      "text/plain": [
       "'World!'"
      ]
     },
     "execution_count": 19,
     "metadata": {},
     "output_type": "execute_result"
    }
   ],
   "source": [
    "s[7:13:1]"
   ]
  },
  {
   "cell_type": "code",
   "execution_count": 20,
   "id": "b9354ac8-680f-472c-83e9-e2ae242c8f9b",
   "metadata": {},
   "outputs": [],
   "source": [
    "#Q11.Create a variable named \"is_student\" and assign it a boolean value indicating whether you are\n",
    "#currently a student or not."
   ]
  },
  {
   "cell_type": "code",
   "execution_count": 21,
   "id": "8116e9f3-7788-49a7-ad2a-45413bd0d522",
   "metadata": {},
   "outputs": [],
   "source": [
    "is_student = \"akshay vyas\""
   ]
  },
  {
   "cell_type": "code",
   "execution_count": 22,
   "id": "3a28ca17-dca4-4b72-99a1-543d1ba33815",
   "metadata": {},
   "outputs": [
    {
     "data": {
      "text/plain": [
       "True"
      ]
     },
     "execution_count": 22,
     "metadata": {},
     "output_type": "execute_result"
    }
   ],
   "source": [
    "\"akshay vyas\" in is_student"
   ]
  },
  {
   "cell_type": "code",
   "execution_count": null,
   "id": "742aacda-5b92-44e0-8b9d-3357bc1b98e3",
   "metadata": {},
   "outputs": [],
   "source": []
  }
 ],
 "metadata": {
  "kernelspec": {
   "display_name": "Python 3 (ipykernel)",
   "language": "python",
   "name": "python3"
  },
  "language_info": {
   "codemirror_mode": {
    "name": "ipython",
    "version": 3
   },
   "file_extension": ".py",
   "mimetype": "text/x-python",
   "name": "python",
   "nbconvert_exporter": "python",
   "pygments_lexer": "ipython3",
   "version": "3.10.8"
  }
 },
 "nbformat": 4,
 "nbformat_minor": 5
}
