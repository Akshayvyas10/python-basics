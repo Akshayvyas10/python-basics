{
 "cells": [
  {
   "cell_type": "code",
   "execution_count": null,
   "id": "eae869d0-6a07-4fc1-9d30-7fa34633ca52",
   "metadata": {},
   "outputs": [],
   "source": [
    "#Q1. What is the Probability density function?"
   ]
  },
  {
   "cell_type": "code",
   "execution_count": null,
   "id": "7728467b-9f32-4cf6-a1a8-c3d9850d815f",
   "metadata": {},
   "outputs": [],
   "source": [
    "'''\n",
    "Probability Density Function (PDF):-\n",
    "\n",
    "A probability density function (PDF) is a function that describes the probability distribution of a continuous random variable.   \n",
    "\n",
    "Understanding the Concept:-\n",
    "\n",
    "Unlike discrete random variables where probabilities are assigned to specific values, continuous random variables can take on an \n",
    "infinite number of values within a given range. Therefore, the probability of any single specific value is zero. Instead, we talk \n",
    "about the probability of a value falling within a particular interval.   \n",
    "\n",
    "The PDF provides a way to calculate this probability. \n",
    "It represents the relative likelihood of a random variable taking on a specific value.\n",
    "However, the PDF itself is not a probability; it's a probability density.   \n",
    "\n",
    "Key Properties of a PDF:-\n",
    "\n",
    "Non-negativity: The PDF is always non-negative for all values of the random variable.   \n",
    "Total Probability: The integral of the PDF over its entire domain is equal to 1. \n",
    "This means the total probability of all possible outcomes is 1. '''"
   ]
  },
  {
   "cell_type": "code",
   "execution_count": null,
   "id": "e8a6ebb3-26c2-4a9e-b7b1-29b8d5b7bed0",
   "metadata": {},
   "outputs": [],
   "source": [
    "#Q2. What are the types of Probability distribution?"
   ]
  },
  {
   "cell_type": "code",
   "execution_count": null,
   "id": "65e53f8d-10a7-4742-9430-aa7b9a781e06",
   "metadata": {},
   "outputs": [],
   "source": [
    "'''\n",
    "Types of Probability Distributions:-\n",
    "Probability distributions are categorized into two primary types based on the nature of the random variable:\n",
    "\n",
    "1. Discrete Probability Distributions:-\n",
    "\n",
    "These distributions deal with random variables that can take on a countable number of values.\n",
    "Examples include the number of heads in coin tosses, the number of defects in a product, etc.   \n",
    "\n",
    "Bernoulli Distribution: Describes the probability of a single trial with two possible outcomes (success or failure).   \n",
    "Binomial Distribution: Generalizes the Bernoulli distribution for multiple trials with two possible outcomes.\n",
    "Poisson Distribution: Models the number of events occurring in a fixed interval of time or space.   \n",
    "Geometric Distribution: Represents the number of trials needed to achieve the first success.   \n",
    "Negative Binomial Distribution: Generalizes the geometric distribution for multiple successes.   \n",
    "\n",
    "2. Continuous Probability Distributions:-\n",
    "These distributions deal with random variables that can take on any value within a specific range.\n",
    "Examples include height, weight, time, etc.   \n",
    "\n",
    "Normal Distribution: The most widely used distribution, often referred to as the bell curve.   \n",
    "Uniform Distribution: All outcomes are equally likely within a specified range.\n",
    "Exponential Distribution: Models the time between events in a Poisson process.   \n",
    "Gamma Distribution: Generalizes the exponential distribution.   \n",
    "Beta Distribution: Often used to model probabilities.   \n",
    "Chi-Square Distribution: Used in hypothesis testing and confidence interval estimation.   \n",
    "t-Distribution: Used for hypothesis testing when the population standard deviation is unknown.   \n",
    "F-Distribution: Used in ANOVA (Analysis of Variance).  ''' \n"
   ]
  },
  {
   "cell_type": "code",
   "execution_count": null,
   "id": "b3287e95-2d60-46e9-a750-dd0d594a60b4",
   "metadata": {},
   "outputs": [],
   "source": [
    "#Q3. Write a Python function to calculate the probability density function of a normal distribution with\n",
    "given mean and standard deviation at a given point."
   ]
  },
  {
   "cell_type": "code",
   "execution_count": null,
   "id": "dd98cfee-8bc2-43bf-b4f8-124d17fdfec1",
   "metadata": {},
   "outputs": [],
   "source": [
    "'''\n",
    "import numpy as np\n",
    "\n",
    "def normal_pdf(x, mean, std_dev):\n",
    "  \"\"\"\n",
    "  Calculates the probability density function (PDF) of a normal distribution at a given point.\n",
    "\n",
    "  Args:\n",
    "    x: The point at which to calculate the PDF.\n",
    "    mean: The mean of the normal distribution.\n",
    "    std_dev: The standard deviation of the normal distribution.\n",
    "\n",
    "  Returns:\n",
    "    The PDF value at the given point.\n",
    "  \"\"\"\n",
    "\n",
    "  exponent = -((x - mean) ** 2) / (2 * std_dev ** 2)\n",
    "  coefficient = 1 / (std_dev * np.sqrt(2 * np.pi))\n",
    "  return coefficient * np.exp(exponent)\n",
    "\n",
    "# Example usage:\n",
    "mean = 5\n",
    "std_dev = 2\n",
    "x = 3\n",
    "pdf_value = normal_pdf(x, mean, std_dev)\n",
    "print(pdf_value) '''"
   ]
  },
  {
   "cell_type": "code",
   "execution_count": null,
   "id": "d67c81c5-f12e-4f73-a802-408e431785db",
   "metadata": {},
   "outputs": [],
   "source": [
    "#Q4. What are the properties of Binomial distribution? Give two examples of events where binomial\n",
    "distribution can be applied."
   ]
  },
  {
   "cell_type": "code",
   "execution_count": null,
   "id": "5457bfb1-ef18-4357-b222-4e021fdbcb73",
   "metadata": {},
   "outputs": [],
   "source": [
    "'''\n",
    "Properties of Binomial Distribution:-\n",
    "\n",
    "Fixed number of trials (n): The experiment is repeated a fixed number of times.   \n",
    "Independent trials: The outcome of one trial does not affect the outcome of subsequent trials.   \n",
    "Two possible outcomes: Each trial results in either success or failure.\n",
    "Constant probability of success (p): The probability of success remains the same for each trial.   \n",
    "Discrete distribution: The random variable (number of successes) can only take on whole number values. \n",
    "\n",
    "Examples of Binomial Distribution:-\n",
    "\n",
    "#Example 1: Flipping a Coin\n",
    "Fixed number of trials: Flipping the coin a specific number of times (e.g., 10 times).\n",
    "Independent trials: The outcome of one flip does not affect the outcome of the next flip.\n",
    "Two possible outcomes: Heads or tails.\n",
    "Constant probability of success: The probability of getting heads (or tails) is 0.5 for each flip.\n",
    "\n",
    "#Example 2: Quality Control\n",
    "Fixed number of trials: Inspecting a specific number of items from a production line.\n",
    "Independent trials: The quality of one item does not affect the quality of the next item.\n",
    "Two possible outcomes: Item is defective or not defective.\n",
    "Constant probability of success: The probability of an item being defective remains constant throughout the inspection process.'''"
   ]
  },
  {
   "cell_type": "code",
   "execution_count": null,
   "id": "19da86cc-98bd-47f1-b7c9-567dd4989ce0",
   "metadata": {},
   "outputs": [],
   "source": [
    "#Q5. Generate a random sample of size 1000 from a binomial distribution with probability of success 0.4\n",
    "and plot a histogram of the results using matplotlib."
   ]
  },
  {
   "cell_type": "code",
   "execution_count": null,
   "id": "834220cf-e529-462b-a672-bac8a91125c2",
   "metadata": {},
   "outputs": [],
   "source": [
    "'''not able to answer'''\n"
   ]
  },
  {
   "cell_type": "code",
   "execution_count": null,
   "id": "e062272c-0f65-4028-8c1b-97f1f0d54aa1",
   "metadata": {},
   "outputs": [],
   "source": [
    "#Q6. Write a Python function to calculate the cumulative distribution function of a Poisson distribution\n",
    "with given mean at a given point."
   ]
  },
  {
   "cell_type": "code",
   "execution_count": null,
   "id": "cf58b12a-533a-4dfd-ae67-8c548b30f561",
   "metadata": {},
   "outputs": [],
   "source": [
    "'''\n",
    "import numpy as np\n",
    "from scipy.stats import poisson\n",
    "\n",
    "def poisson_cdf(k, mu):\n",
    "  \"\"\"\n",
    "  Calculates the cumulative distribution function (CDF) of a Poisson distribution.\n",
    "\n",
    "  Args:\n",
    "    k: The value at which to calculate the CDF.\n",
    "    mu: The mean of the Poisson distribution.\n",
    "\n",
    "  Returns:\n",
    "    The CDF value at the given point.\n",
    "  \"\"\"\n",
    "\n",
    "  return poisson.cdf(k, mu)\n",
    "\n",
    "# Example usage:\n",
    "mean = 3\n",
    "k = 2\n",
    "cdf_value = poisson_cdf(k, mean)\n",
    "print(cdf_value)'''"
   ]
  },
  {
   "cell_type": "code",
   "execution_count": null,
   "id": "724d00b9-4955-40cf-bb65-ac1caa417514",
   "metadata": {},
   "outputs": [],
   "source": [
    "#Q7. How Binomial distribution different from Poisson distribution?"
   ]
  },
  {
   "cell_type": "code",
   "execution_count": null,
   "id": "b691a444-7849-4d46-9fd3-9d50c15773e5",
   "metadata": {},
   "outputs": [],
   "source": [
    "'''\n",
    "Binomial vs. Poisson Distribution\n",
    "While both binomial and Poisson distributions deal with the number of occurrences of an event, \n",
    "they differ in several key aspects:\n",
    "\n",
    "Binomial Distribution\n",
    "Fixed number of trials (n): The experiment is repeated a fixed number of times.\n",
    "Independent trials: The outcome of one trial does not affect the outcome of others.   \n",
    "Two possible outcomes: Success or failure.\n",
    "Constant probability of success (p): The probability of success remains the same for each trial.   \n",
    "Example: Flipping a coin 10 times and counting the number of heads.\n",
    "\n",
    "Poisson Distribution\n",
    "No fixed number of trials: The number of occurrences is counted over a specific interval (time, area, volume).   \n",
    "Independent occurrences: Events occur independently of each other.\n",
    "Rare events: The probability of an occurrence in a very small interval is very small, but the total number of occurrences can be\n",
    "significant.\n",
    "Example: The number of cars arriving at a toll booth in an hour.\n",
    "\n",
    "Key Differences\n",
    "Nature of trials: Binomial has a fixed number of trials, while Poisson has no fixed number.   \n",
    "Probability of success: Binomial has a constant probability of success, while Poisson deals with rare events.   \n",
    "Type of events: Binomial deals with discrete events, while Poisson often deals with events occurring continuously in time or space.'''"
   ]
  },
  {
   "cell_type": "code",
   "execution_count": null,
   "id": "d178cef8-30c0-4258-b6bf-bbf5e0c7cfe6",
   "metadata": {},
   "outputs": [],
   "source": [
    "#Q8. Generate a random sample of size 1000 from a Poisson distribution with mean 5 and calculate the\n",
    "sample mean and variance."
   ]
  },
  {
   "cell_type": "code",
   "execution_count": null,
   "id": "53df8671-1a68-4d35-ad4b-75a812451ee4",
   "metadata": {},
   "outputs": [],
   "source": [
    "'''\n",
    "import numpy as np\n",
    "\n",
    "# Generate a random sample of size 1000 from a Poisson distribution with mean 5\n",
    "sample = np.random.poisson(5, 1000)\n",
    "\n",
    "# Calculate the sample mean\n",
    "sample_mean = np.mean(sample)\n",
    "\n",
    "# Calculate the sample variance\n",
    "sample_variance = np.var(sample)\n",
    "\n",
    "print(\"Sample mean:\", sample_mean)\n",
    "print(\"Sample variance:\", sample_variance)'''"
   ]
  },
  {
   "cell_type": "code",
   "execution_count": null,
   "id": "252037b7-5911-4746-b38f-4872bd7f6b21",
   "metadata": {},
   "outputs": [],
   "source": [
    "#Q9. How mean and variance are related in Binomial distribution and Poisson distribution?"
   ]
  },
  {
   "cell_type": "code",
   "execution_count": null,
   "id": "1fa9ec58-d791-4078-a35d-c0ea1a7e2a1e",
   "metadata": {},
   "outputs": [],
   "source": [
    "'''\n",
    "Relationship between Mean and Variance in Binomial and Poisson Distributions\n",
    "\n",
    "Binomial Distribution\n",
    "Mean: np\n",
    "Variance: np(1-p)\n",
    "where:\n",
    "n is the number of trials\n",
    "p is the probability of success   \n",
    "As you can see, the mean and variance of a binomial distribution are related through the number of trials (n) and the probability\n",
    "of success (p).   \n",
    "\n",
    "Poisson Distribution\n",
    "Mean: λ\n",
    "Variance: λ\n",
    "In a Poisson distribution, the mean and variance are equal to the parameter λ, which represents the average rate of occurrence of\n",
    "events.   \n",
    "\n",
    "Key difference:\n",
    "\n",
    "In a binomial distribution, the variance is always smaller than the mean (since p(1-p) is always less than 1).   \n",
    "In a Poisson distribution, the mean and variance are always equal.   \n",
    "This difference in the relationship between mean and variance is one of the key ways to distinguish between these two distributions\n",
    "'''"
   ]
  },
  {
   "cell_type": "code",
   "execution_count": null,
   "id": "39fc3f04-7858-437d-a687-5ffb7d0b0b4d",
   "metadata": {},
   "outputs": [],
   "source": [
    "#Q10. In normal distribution with respect to mean position, where does the least frequent data appear?"
   ]
  },
  {
   "cell_type": "code",
   "execution_count": null,
   "id": "7c3b9122-a850-4b26-a442-c81e2de75291",
   "metadata": {},
   "outputs": [],
   "source": [
    "'''\n",
    "In a normal distribution, the least frequent data appears farthest from the mean.\n",
    "\n",
    "This is why the normal distribution is often visualized as a bell curve. \n",
    "The peak of the bell represents the mean, where the most frequent data points are located. \n",
    "As you move away from the mean in either direction, the data becomes less frequent. \n",
    "The tails of the curve, representing the extreme values, contain the least frequent data points.   '''\n"
   ]
  }
 ],
 "metadata": {
  "kernelspec": {
   "display_name": "Python 3 (ipykernel)",
   "language": "python",
   "name": "python3"
  },
  "language_info": {
   "codemirror_mode": {
    "name": "ipython",
    "version": 3
   },
   "file_extension": ".py",
   "mimetype": "text/x-python",
   "name": "python",
   "nbconvert_exporter": "python",
   "pygments_lexer": "ipython3",
   "version": "3.10.8"
  }
 },
 "nbformat": 4,
 "nbformat_minor": 5
}
