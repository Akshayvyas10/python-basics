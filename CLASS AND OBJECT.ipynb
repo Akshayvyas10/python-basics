{
 "cells": [
  {
   "cell_type": "code",
   "execution_count": 1,
   "id": "09f1cc6e-4dd6-4736-af01-c4cb4ec2bb1f",
   "metadata": {},
   "outputs": [],
   "source": [
    "#Q1,Create a vehicle class with an init method having instance variables as name_of_vehicle, max_speed\n",
    "#and average_of_vehicle. "
   ]
  },
  {
   "cell_type": "code",
   "execution_count": 51,
   "id": "c215e85d-23c7-459b-b333-ed0ea6cea424",
   "metadata": {},
   "outputs": [],
   "source": [
    "class vehicle:\n",
    "    def __init__(self,name_of_vehicle, max_speed,average_of_vehicle):\n",
    "        self.name_of_vehicle = name_of_vehicle\n",
    "        self.max_speed = max_speed\n",
    "        self.average_of_vehicle = average_of_vehicle\n",
    "    "
   ]
  },
  {
   "cell_type": "code",
   "execution_count": 4,
   "id": "7ab7f9ed-168a-430a-900d-f6a4505d8c46",
   "metadata": {},
   "outputs": [],
   "source": [
    "obj_vehicle = vehicle(\"TATA INNOVA\",60,20)"
   ]
  },
  {
   "cell_type": "code",
   "execution_count": 5,
   "id": "dd470cab-a935-4e1c-89a0-50020f68d2fa",
   "metadata": {},
   "outputs": [
    {
     "data": {
      "text/plain": [
       "'TATA INNOVA'"
      ]
     },
     "execution_count": 5,
     "metadata": {},
     "output_type": "execute_result"
    }
   ],
   "source": [
    "obj_vehicle.name_of_vehicle"
   ]
  },
  {
   "cell_type": "code",
   "execution_count": 6,
   "id": "a063c34b-cc3d-494d-a86b-f136d8963dd2",
   "metadata": {},
   "outputs": [
    {
     "data": {
      "text/plain": [
       "60"
      ]
     },
     "execution_count": 6,
     "metadata": {},
     "output_type": "execute_result"
    }
   ],
   "source": [
    "obj_vehicle.max_speed"
   ]
  },
  {
   "cell_type": "code",
   "execution_count": 7,
   "id": "f6790dde-939f-480b-83fe-9b89c0b19ac8",
   "metadata": {},
   "outputs": [
    {
     "data": {
      "text/plain": [
       "20"
      ]
     },
     "execution_count": 7,
     "metadata": {},
     "output_type": "execute_result"
    }
   ],
   "source": [
    "obj_vehicle.average_of_vehicle"
   ]
  },
  {
   "cell_type": "code",
   "execution_count": 8,
   "id": "2d766466-074a-4fe4-b9bf-94ce359158da",
   "metadata": {},
   "outputs": [],
   "source": [
    "#Q2.Create a child class car from the vehicle class created in Que 1, which will inherit the vehicle class.\n",
    "#Create a method named seating_capacity which takes capacity as an argument and returns the name of\n",
    "#the vehicle and its seating capacity."
   ]
  },
  {
   "cell_type": "code",
   "execution_count": 125,
   "id": "83cdc8a0-b0e7-4ea7-a984-9e609254c9aa",
   "metadata": {},
   "outputs": [],
   "source": [
    "class car_child(vehicle):\n",
    "    def seating_cap(s):\n",
    "         print(\"5 seater\")\n",
    "        "
   ]
  },
  {
   "cell_type": "code",
   "execution_count": 126,
   "id": "e140050e-0b1c-4a90-9beb-03a61bed3ec4",
   "metadata": {},
   "outputs": [],
   "source": [
    "c1 = car_child(\"TATA INNOVA\",60,21)"
   ]
  },
  {
   "cell_type": "code",
   "execution_count": 127,
   "id": "96234682-d347-4d41-a30e-8bd76601dbfd",
   "metadata": {},
   "outputs": [
    {
     "data": {
      "text/plain": [
       "60"
      ]
     },
     "execution_count": 127,
     "metadata": {},
     "output_type": "execute_result"
    }
   ],
   "source": [
    "c1.max_speed"
   ]
  },
  {
   "cell_type": "code",
   "execution_count": 129,
   "id": "de241bd6-39db-4225-a512-d1a262e7e39c",
   "metadata": {},
   "outputs": [
    {
     "name": "stdout",
     "output_type": "stream",
     "text": [
      "5 seater\n"
     ]
    }
   ],
   "source": [
    "c1.seating_cap()"
   ]
  },
  {
   "cell_type": "code",
   "execution_count": 130,
   "id": "9e5c16ce-75af-4fd8-bb27-24db209362ce",
   "metadata": {},
   "outputs": [
    {
     "data": {
      "text/plain": [
       "'TATA INNOVA'"
      ]
     },
     "execution_count": 130,
     "metadata": {},
     "output_type": "execute_result"
    }
   ],
   "source": [
    "c1.name_of_vehicle"
   ]
  },
  {
   "cell_type": "code",
   "execution_count": 131,
   "id": "3ce83041-2005-4603-9709-1f2cc1c4d8c0",
   "metadata": {},
   "outputs": [],
   "source": [
    "#Q3.What is multiple inheritance? Write a python code to demonstrate multiple inheritance."
   ]
  },
  {
   "cell_type": "code",
   "execution_count": 132,
   "id": "5b9fb2aa-887d-44de-949f-2eb764e9b69f",
   "metadata": {},
   "outputs": [],
   "source": [
    "#MULTIPLE INHERITANCE MEANS WHEN A CLASS INHERITES PROPERTY OF MORE THAN 1 CLASS WITHIN ITSELF"
   ]
  },
  {
   "cell_type": "code",
   "execution_count": 133,
   "id": "be8385e5-fa75-4432-a57e-0ba4c720f0d9",
   "metadata": {},
   "outputs": [],
   "source": [
    "class x():\n",
    "    def func_x():\n",
    "        print(\"THIS BELONGS TO CLASS X\")\n",
    "        \n",
    "class y():\n",
    "    def func_y():\n",
    "        print(\"THIS BELONGS TO CLASS Y\")\n",
    "        \n",
    "class z(x,y):\n",
    "    def func_z():\n",
    "        print(\"THIS BELONGS TO CLASS Z\")"
   ]
  },
  {
   "cell_type": "code",
   "execution_count": 134,
   "id": "35d1d92f-8697-41e6-b21b-d097182560c3",
   "metadata": {},
   "outputs": [],
   "source": [
    "obj_z = z"
   ]
  },
  {
   "cell_type": "code",
   "execution_count": 136,
   "id": "a924ea67-b636-4730-a58d-56647c40b20a",
   "metadata": {},
   "outputs": [
    {
     "name": "stdout",
     "output_type": "stream",
     "text": [
      "THIS BELONGS TO CLASS X\n"
     ]
    }
   ],
   "source": [
    "obj_z.func_x()"
   ]
  },
  {
   "cell_type": "code",
   "execution_count": 137,
   "id": "9c203df7-13fb-4fbd-bebf-e2fbefe19b8c",
   "metadata": {},
   "outputs": [
    {
     "name": "stdout",
     "output_type": "stream",
     "text": [
      "THIS BELONGS TO CLASS Y\n"
     ]
    }
   ],
   "source": [
    "obj_z.func_y()"
   ]
  },
  {
   "cell_type": "code",
   "execution_count": 138,
   "id": "103744a8-e048-4a2a-bcd9-49f1ac9426ce",
   "metadata": {},
   "outputs": [
    {
     "name": "stdout",
     "output_type": "stream",
     "text": [
      "THIS BELONGS TO CLASS Z\n"
     ]
    }
   ],
   "source": [
    "obj_z.func_z()"
   ]
  },
  {
   "cell_type": "code",
   "execution_count": 139,
   "id": "1236bfc8-b1a5-401b-9a0c-d9280a63c73b",
   "metadata": {},
   "outputs": [],
   "source": [
    "#Q4.What are getter and setter in python? Create a class and create a getter and a setter method in this\n",
    "#class."
   ]
  },
  {
   "cell_type": "code",
   "execution_count": 140,
   "id": "1fae227f-6c76-409d-9a41-615d3826b890",
   "metadata": {},
   "outputs": [],
   "source": [
    "#WHILE PERFORMING THE PROCESS OF ENCAPSULATION WHEN A CREATOR DOES NOT WANT's SOMEONE TO DIRECTLY ACCESS OR MODIFY THE VALUES HE/SHE USES GETTER AND SETTER IN PYTHON "
   ]
  },
  {
   "cell_type": "code",
   "execution_count": 21,
   "id": "77f60e6e-d30d-4d28-97a7-f1313574ec00",
   "metadata": {},
   "outputs": [],
   "source": [
    "class pwskills():\n",
    "    def __init__(self,name,course,email_no):\n",
    "        self.__name = name\n",
    "        self.__course = course\n",
    "        self.__email_no = email_no\n",
    "        \n",
    "        \n",
    "    @property\n",
    "    def pw_name(self):\n",
    "        return self.__name\n",
    "        \n",
    "    @pw_name.setter\n",
    "    def set_name(self,new_name):\n",
    "        self.__name = new_name\n",
    "            \n",
    "    @pw_name.getter\n",
    "    def get_name(self):\n",
    "        return self.__name\n",
    "    \n",
    "    "
   ]
  },
  {
   "cell_type": "code",
   "execution_count": 22,
   "id": "d64c5628-f829-4fac-b569-8c6181b4e45f",
   "metadata": {},
   "outputs": [],
   "source": [
    "pw1 = pwskills(\"akshay vyas\",\"data science masters\",\"akshay@gmail.com\")"
   ]
  },
  {
   "cell_type": "code",
   "execution_count": 26,
   "id": "0849ce7d-73d1-4bed-a917-d0e1f789e17f",
   "metadata": {},
   "outputs": [
    {
     "data": {
      "text/plain": [
       "'akshay vyas'"
      ]
     },
     "execution_count": 26,
     "metadata": {},
     "output_type": "execute_result"
    }
   ],
   "source": [
    "pw1.pw_name"
   ]
  },
  {
   "cell_type": "code",
   "execution_count": 27,
   "id": "a91a27b3-9d1b-403d-a9e6-8ffa63749d66",
   "metadata": {},
   "outputs": [
    {
     "data": {
      "text/plain": [
       "'akshay vyas'"
      ]
     },
     "execution_count": 27,
     "metadata": {},
     "output_type": "execute_result"
    }
   ],
   "source": [
    "pw1.get_name"
   ]
  },
  {
   "cell_type": "code",
   "execution_count": 34,
   "id": "0b8ac8ec-2daa-46aa-a8cf-9ac647470cc3",
   "metadata": {},
   "outputs": [],
   "source": [
    "pw1.set_name = \"raghav vyas\""
   ]
  },
  {
   "cell_type": "code",
   "execution_count": 35,
   "id": "88d243a7-6c42-4467-8af2-6fee810ad36f",
   "metadata": {},
   "outputs": [
    {
     "data": {
      "text/plain": [
       "'raghav vyas'"
      ]
     },
     "execution_count": 35,
     "metadata": {},
     "output_type": "execute_result"
    }
   ],
   "source": [
    "pw1.get_name"
   ]
  },
  {
   "cell_type": "code",
   "execution_count": 36,
   "id": "85cd45ca-48bb-4c83-8695-d0cefb7143d7",
   "metadata": {},
   "outputs": [],
   "source": [
    "#Q5.What is method overriding in python? Write a python code to demonstrate method overriding."
   ]
  },
  {
   "cell_type": "code",
   "execution_count": 37,
   "id": "3656ddae-3902-491f-9934-f709e5714d9f",
   "metadata": {},
   "outputs": [],
   "source": [
    "class a():\n",
    "    def x():\n",
    "        print(\"this is the parent class method\")\n",
    "        \n",
    "class b(a):\n",
    "    def x():\n",
    "        print(\"this is the child class method\")\n",
    "        "
   ]
  },
  {
   "cell_type": "code",
   "execution_count": null,
   "id": "58b3d455-9bd2-4911-a577-13adc8a8f7d5",
   "metadata": {},
   "outputs": [],
   "source": []
  }
 ],
 "metadata": {
  "kernelspec": {
   "display_name": "Python 3 (ipykernel)",
   "language": "python",
   "name": "python3"
  },
  "language_info": {
   "codemirror_mode": {
    "name": "ipython",
    "version": 3
   },
   "file_extension": ".py",
   "mimetype": "text/x-python",
   "name": "python",
   "nbconvert_exporter": "python",
   "pygments_lexer": "ipython3",
   "version": "3.10.8"
  }
 },
 "nbformat": 4,
 "nbformat_minor": 5
}
