{
 "cells": [
  {
   "cell_type": "code",
   "execution_count": null,
   "id": "def7885e-854d-4d50-b259-30525364e792",
   "metadata": {},
   "outputs": [],
   "source": [
    "#Q1. Explain GET and POST methods."
   ]
  },
  {
   "cell_type": "code",
   "execution_count": null,
   "id": "eb7953a3-7097-4b90-9058-89c089fb650e",
   "metadata": {},
   "outputs": [],
   "source": [
    "'''\n",
    "#GET and POST Methods:-\n",
    "\n",
    "GET and POST are two fundamental HTTP methods used to transfer data between a client (usually a web browser) and a server.\n",
    "\n",
    "#GET Method:-\n",
    "\n",
    "Purpose: Retrieves data from a server.\n",
    "\n",
    "Characteristics:\n",
    "\n",
    "Appends data to the URL as query parameters.\n",
    "Idempotent (multiple identical requests have the same effect as a single request).\n",
    "Data is visible in the browser's address bar.\n",
    "Limited data size due to URL length restrictions.\n",
    "Suitable for retrieving data, searching, or filtering.\n",
    "\n",
    "#POST Method:-\n",
    "\n",
    "Purpose: Sends data to a server to create or update a resource.\n",
    "\n",
    "Characteristics:\n",
    "\n",
    "Data is sent in the request body, not the URL.\n",
    "Not idempotent (multiple requests can have different effects).\n",
    "Data is not visible in the browser's address bar.\n",
    "Can handle larger amounts of data.\n",
    "Suitable for submitting forms, uploading files, and creating new resources.'''"
   ]
  },
  {
   "cell_type": "code",
   "execution_count": null,
   "id": "c378ced2-a648-4a40-b094-bac23057a435",
   "metadata": {},
   "outputs": [],
   "source": [
    "#Q2. Why is request used in Flask?"
   ]
  },
  {
   "cell_type": "code",
   "execution_count": null,
   "id": "375adb1f-e9a0-4b12-b919-f60fbd4c74f8",
   "metadata": {},
   "outputs": [],
   "source": [
    "'''\n",
    "The request Object in Flask\n",
    "\n",
    "The request object in Flask is a special object that contains all the information about the incoming request from the client. \n",
    "\n",
    "This includes data such as:   \n",
    "\n",
    "HTTP method (GET, POST, PUT, DELETE, etc.)   \n",
    "Headers\n",
    "Cookies\n",
    "Form data\n",
    "JSON data\n",
    "Files\n",
    "Essentially, it's a bridge between the client and your Flask application, providing access to all the data sent by the client.\n",
    "\n",
    "#Why is it Used?\n",
    "\n",
    "Accessing request data: You can extract data sent by the client, such as form data, JSON payloads, or query parameters.\n",
    "Handling different HTTP methods: You can differentiate between GET, POST, and other methods and process them accordingly.\n",
    "Customizing responses: You can use request data to tailor the response to the client.\n",
    "Security: You can validate and sanitize input data to prevent security vulnerabilities.\n",
    "\n",
    "Example:\n",
    "\n",
    "from flask import Flask, request\n",
    "\n",
    "app = Flask(__name__)\n",
    "\n",
    "@app.route('/', methods=['GET', 'POST'])\n",
    "def index():\n",
    "    if request.method == 'POST':\n",
    "        name = request.form['name']\n",
    "        return f'Hello, {name}!'\n",
    "    else:\n",
    "        return 'Please use POST method to submit data'\n",
    "\n",
    "if __name__ == '__main__':\n",
    "    app.run(debug=True)'''"
   ]
  },
  {
   "cell_type": "code",
   "execution_count": null,
   "id": "a92dd9d1-296b-41cf-a191-429c4e474ce0",
   "metadata": {},
   "outputs": [],
   "source": [
    "#Q3. Why is redirect() used in Flask?"
   ]
  },
  {
   "cell_type": "code",
   "execution_count": null,
   "id": "1f21f09c-154d-4a40-bcd0-d7fed00a340a",
   "metadata": {},
   "outputs": [],
   "source": [
    "'''\n",
    "The redirect() Function in Flask\n",
    "The redirect() function in Flask is used to send a temporary redirect response to the client, \n",
    "instructing the browser to load a different URL. \n",
    "\n",
    "This is typically used for:   \n",
    "\n",
    "Redirecting users to a different page after form submission or other actions.\n",
    "Handling authentication or authorization redirects.\n",
    "Implementing URL redirects for SEO purposes.\n",
    "\n",
    "Syntax:\n",
    "\n",
    "from flask import redirect, url_for\n",
    "return redirect(url_for('function_name', arg1=value1, arg2=value2))\n",
    "\n",
    "Example:\n",
    "\n",
    "from flask import Flask, redirect, url_for\n",
    "\n",
    "app = Flask(__name__)\n",
    "\n",
    "@app.route('/')\n",
    "def index():\n",
    "    return 'You are on the index page'\n",
    "\n",
    "@app.route('/login')\n",
    "def login():\n",
    "    # Login logic here\n",
    "    return redirect(url_for('index'))\n",
    "\n",
    "if __name__ == '__main__':\n",
    "    app.run(debug=True)'''"
   ]
  },
  {
   "cell_type": "code",
   "execution_count": null,
   "id": "ef674ce2-7eff-46fc-bcfd-ddf2d2be8bde",
   "metadata": {},
   "outputs": [],
   "source": [
    "#Q4. What are templates in Flask? Why is the render_template() function used?"
   ]
  },
  {
   "cell_type": "code",
   "execution_count": null,
   "id": "fb671cb5-6621-46c1-93c3-92cae974dbb1",
   "metadata": {},
   "outputs": [],
   "source": [
    "'''\n",
    "#Flask Templates\n",
    "\n",
    "Templates in Flask are HTML files with embedded Python code. \n",
    "They allow you to separate the presentation logic from the application logic, making your code more maintainable and reusable.   \n",
    "\n",
    "The render_template() function is used to render a template and return the rendered HTML as a response. \n",
    "It takes the template filename as the first argument and can accept additional keyword arguments to pass data to the template.   \n",
    "\n",
    "#Example:\n",
    "\n",
    "from flask import Flask, render_template\n",
    "\n",
    "app = Flask(__name__)\n",
    "\n",
    "@app.route('/')\n",
    "def index():\n",
    "    name = 'Alice'\n",
    "    age = 30\n",
    "    return render_template('index.html', name=name, age=age)\n",
    "    \n",
    "#index.html (template file):\n",
    "\n",
    "<!DOCTYPE html>\n",
    "<html>\n",
    "<head>\n",
    "    <title>Hello, World!</title>\n",
    "</head>\n",
    "<body>\n",
    "    <h1>Hello, {{ name }}!</h1>\n",
    "    <p>You are {{ age }} years old.</p>\n",
    "</body>\n",
    "</html>'''"
   ]
  },
  {
   "cell_type": "code",
   "execution_count": null,
   "id": "bdad0dc2-3467-4491-a093-c1ceda6c81b1",
   "metadata": {},
   "outputs": [],
   "source": [
    "#Q5. Create a simple API. Use Postman to test it."
   ]
  },
  {
   "cell_type": "code",
   "execution_count": null,
   "id": "41bdc9bb-1349-4366-84fc-f10762fa9f61",
   "metadata": {},
   "outputs": [],
   "source": [
    "'''NOT ABLE TO ANSWER THIS'''"
   ]
  }
 ],
 "metadata": {
  "kernelspec": {
   "display_name": "Python 3 (ipykernel)",
   "language": "python",
   "name": "python3"
  },
  "language_info": {
   "codemirror_mode": {
    "name": "ipython",
    "version": 3
   },
   "file_extension": ".py",
   "mimetype": "text/x-python",
   "name": "python",
   "nbconvert_exporter": "python",
   "pygments_lexer": "ipython3",
   "version": "3.10.8"
  }
 },
 "nbformat": 4,
 "nbformat_minor": 5
}
