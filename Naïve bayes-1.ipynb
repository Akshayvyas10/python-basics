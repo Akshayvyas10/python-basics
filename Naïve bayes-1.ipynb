{
  "metadata": {
    "kernelspec": {
      "name": "python",
      "display_name": "Python (Pyodide)",
      "language": "python"
    },
    "language_info": {
      "codemirror_mode": {
        "name": "python",
        "version": 3
      },
      "file_extension": ".py",
      "mimetype": "text/x-python",
      "name": "python",
      "nbconvert_exporter": "python",
      "pygments_lexer": "ipython3",
      "version": "3.8"
    }
  },
  "nbformat_minor": 4,
  "nbformat": 4,
  "cells": [
    {
      "cell_type": "code",
      "source": "#Q1. What is Bayes' theorem?",
      "metadata": {
        "trusted": true
      },
      "outputs": [],
      "execution_count": null
    },
    {
      "cell_type": "code",
      "source": "'''\nBayes' theorem is a mathematical formula that relates the probability of an event to the conditional probability of other events.\nIt is named after the 18th-century English mathematician Thomas Bayes.\n\nIn simpler terms, Bayes' theorem helps us update our beliefs about the probability of an event occurring based on new evidence. \nIt is widely used in statistics, machine learning, and artificial intelligence.\n\nThe formula for Bayes' theorem is:\n\nP(A|B) = P(B|A) * P(A) / P(B)\n\nWhere:\n\nP(A|B) is the conditional probability of event A occurring given that event B has already occurred.\nP(B|A) is the conditional probability of event B occurring given that event A has already occurred.   \nP(A) is the prior probability of event A occurring.\nP(B) is the prior probability of event B occurring.\n\nBayes' theorem is a powerful tool that can be used to solve a variety of problems, such as:\n\nClassifying objects or data points.\nMaking predictions.\nUpdating beliefs in the face of new information.\nMedical diagnosis.\nRisk assessment.'''",
      "metadata": {
        "trusted": true
      },
      "outputs": [],
      "execution_count": null
    },
    {
      "cell_type": "code",
      "source": "#Q2. What is the formula for Bayes' theorem?",
      "metadata": {
        "trusted": true
      },
      "outputs": [],
      "execution_count": null
    },
    {
      "cell_type": "code",
      "source": "'''\nThe formula for Bayes' theorem is:\n\nP(A|B) = P(B|A) * P(A) / P(B)\n\nWhere:\nP(A|B): The probability of event A occurring given that event B has already occurred.   \nP(B|A): The probability of event B occurring given that event A has already occurred.   \nP(A): The prior probability of event A occurring.   \nP(B): The prior probability of event B occurring.\nEssentially, Bayes' theorem allows us to update our belief in the probability of an event (A) based on new evidence (B). '''",
      "metadata": {
        "trusted": true
      },
      "outputs": [],
      "execution_count": null
    },
    {
      "cell_type": "code",
      "source": "#Q3. How is Bayes' theorem used in practice?",
      "metadata": {
        "trusted": true
      },
      "outputs": [],
      "execution_count": null
    },
    {
      "cell_type": "code",
      "source": "'''\nBayes' theorem is widely used in various fields, including:\n\n1. Medical Diagnosis:\nDisease Probability:\nGiven a patient's symptoms and test results, Bayes' theorem helps calculate the probability of a specific disease.   \nTest Accuracy: It helps assess the accuracy of medical tests by considering factors like sensitivity and specificity.   \n2. Machine Learning:\nBayesian Networks: These are graphical models that represent probabilistic relationships between variables. Bayes' theorem is essential for calculating probabilities within these networks.   \nNaive Bayes Classifiers: These are simple yet effective classifiers used in text classification, spam filtering, and sentiment analysis.   \n3. Finance and Economics:\nRisk Assessment: Bayes' theorem helps evaluate the probability of financial risks, such as market crashes or credit defaults.   \nInvestment Decisions: It can be used to update investment strategies based on new market data.   \n4. Artificial Intelligence:\nBayesian Inference: This is a statistical method used to infer probabilities of unknown quantities based on observed data.   \nRobotics: Bayes' theorem is used in robotics for tasks like localization and object tracking.   \n5. Spam Filtering:\nEmail Classification: Bayes' theorem helps classify emails as spam or not spam based on features like word frequency and sender information.   \n6. Natural Language Processing:\nLanguage Modeling: Bayes' theorem is used in language models to predict the next word or phrase in a sequence.   \nIn essence, Bayes' theorem provides a framework for updating beliefs based on new evidence. Its applications are diverse and crucial in fields that involve uncertainty and decision-making.'''   \n",
      "metadata": {
        "trusted": true
      },
      "outputs": [],
      "execution_count": null
    },
    {
      "cell_type": "code",
      "source": "#Q4. What is the relationship between Bayes' theorem and conditional probability?",
      "metadata": {
        "trusted": true
      },
      "outputs": [],
      "execution_count": null
    },
    {
      "cell_type": "code",
      "source": "'''\nBayes' theorem is essentially a formula for calculating conditional probability.\n\nConditional probability is the probability of an event occurring given that another event has already occurred.\nFor example, the probability of rain today given that it's cloudy is a conditional probability.   \n\nBayes' theorem flips this relationship around. It allows us to calculate the probability of an event given that another event has occurred.\nSo, if we know the probability of rain given that it's cloudy, we can use Bayes' theorem to calculate the probability that it's cloudy given that it's raining.   \n\nIn essence, Bayes' theorem provides a way to update our beliefs about the probability of an event based on new information or evidence.\nThis is a fundamental concept in many areas of statistics, machine learning, and artificial intelligence.  ''' \n",
      "metadata": {
        "trusted": true
      },
      "outputs": [],
      "execution_count": null
    },
    {
      "cell_type": "code",
      "source": "#Q5. How do you choose which type of Naive Bayes classifier to use for any given problem?",
      "metadata": {
        "trusted": true
      },
      "outputs": [],
      "execution_count": null
    },
    {
      "cell_type": "code",
      "source": "'''\nChoosing the right Naive Bayes classifier for a given problem depends on the characteristics of your data:\n\nCategorical or Numerical Data:\nMultinomial Naive Bayes: Best suited for categorical data, such as text classification or document categorization.\nGaussian Naive Bayes: Works well with numerical data that follows a Gaussian distribution.\nBernoulli Naive Bayes: Ideal for binary data, such as presence or absence of certain features.\n\nData Distribution:\nGaussian Naive Bayes: Assumes features follow a Gaussian distribution. If your data deviates significantly from this, consider other classifiers.\nMultinomial and Bernoulli Naive Bayes: Are less sensitive to data distribution assumptions.\n\nFeature Independence:\nNaive Bayes: Assumes features are conditionally independent given the class label. If this assumption is violated, the performance might degrade.\n\nClass Imbalance:\nClass Balancing: If your dataset has imbalanced classes, consider techniques like oversampling or undersampling to improve performance.\n\nFeature Sparsity:\nBernoulli Naive Bayes: Can handle sparse data effectively, where many features have zero values.'''",
      "metadata": {
        "trusted": true
      },
      "outputs": [],
      "execution_count": null
    },
    {
      "cell_type": "code",
      "source": "'''Q6. Assignment:\nYou have a dataset with two features, X1 and X2, and two possible classes, A and B. You want to use Naive\nBayes to classify a new instance with features X1 = 3 and X2 = 4. The following table shows the frequency of\neach feature value for each class:\nClass X1=1 X1=2 X1=3 X2=1 X2=2 X2=3 X2=4\nA     3    3    4    4    3    3     3\nB     2    2    1    2    2    2     3\nAssuming equal prior probabilities for each class, which class would Naive Bayes predict the new instance\nto belong to?'''",
      "metadata": {
        "trusted": true
      },
      "outputs": [],
      "execution_count": null
    },
    {
      "cell_type": "code",
      "source": "'''\nCalculating Probabilities:\n\nPrior Probability: Since we assume equal prior probabilities, P(A) = P(B) = 0.5.\nConditional Probabilities:\nFor Class A:\nP(X1=3|A) = 4/10 = 0.4\nP(X2=4|A) = 3/10 = 0.3\nFor Class B:\nP(X1=3|B) = 1/7 = 0.143\nP(X2=4|B) = 3/7 = 0.429\n\nApplying Bayes' Theorem:\n\nP(A|X1=3, X2=4) = P(X1=3|A) * P(X2=4|A) * P(A) / P(X1=3, X2=4)\nP(B|X1=3, X2=4) = P(X1=3|B) * P(X2=4|B) * P(B) / P(X1=3, X2=4)\n\nNote: Since we're comparing the probabilities for classes A and B, the denominator (P(X1=3, X2=4)) will be the same for both calculations and can be ignored.\n\nCalculating the Posterior Probabilities:\n\nP(A|X1=3, X2=4) = 0.4 * 0.3 * 0.5 ≈ 0.06\nP(B|X1=3, X2=4) = 0.143 * 0.429 * 0.5 ≈ 0.031\n\nConclusion:\n\nSince P(A|X1=3, X2=4) > P(B|X1=3, X2=4), Naive Bayes would predict the new instance to belong to class A. '''",
      "metadata": {
        "trusted": true
      },
      "outputs": [],
      "execution_count": null
    }
  ]
}