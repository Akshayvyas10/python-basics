{
 "cells": [
  {
   "cell_type": "code",
   "execution_count": null,
   "id": "ca77b51c-c0cd-47bd-b499-d2f84c29b8df",
   "metadata": {},
   "outputs": [],
   "source": [
    "#Q1. What is multiprocessing in python? Why is it useful?"
   ]
  },
  {
   "cell_type": "code",
   "execution_count": null,
   "id": "b13557ab-ceee-42d3-9650-c3338d3e6d54",
   "metadata": {},
   "outputs": [],
   "source": [
    "'''\n",
    "#Multiprocessing in Python:-\n",
    "\n",
    "Multiprocessing in Python involves running multiple processes concurrently, each with its own memory space.\n",
    "This is in contrast to multithreading, where multiple threads share the same memory space within a single process.   \n",
    "\n",
    "#Why is it useful?\n",
    "\n",
    "Overcomes the Global Interpreter Lock (GIL): Python's GIL limits the ability of multithreading to fully utilize multiple CPU cores for CPU-bound tasks. Multiprocessing circumvents this limitation by using separate processes.   \n",
    "Improved performance: For CPU-bound tasks, multiprocessing can significantly enhance performance by distributing the workload across multiple cores.   \n",
    "Isolation: Each process has its own memory space, reducing the risk of data corruption due to shared memory issues.   \n",
    "Reliability: If one process crashes, it doesn't affect other processes, improving the overall reliability of the application.'''"
   ]
  },
  {
   "cell_type": "code",
   "execution_count": null,
   "id": "c21c0adf-eeed-4884-83a9-e38b7272da48",
   "metadata": {},
   "outputs": [],
   "source": [
    "#Q2. What are the differences between multiprocessing and multithreading?"
   ]
  },
  {
   "cell_type": "code",
   "execution_count": null,
   "id": "5a538d2a-3610-4e00-af04-29e760c3df2c",
   "metadata": {},
   "outputs": [],
   "source": [
    "'''\n",
    "Multiprocessing vs. Multithreading\n",
    "\n",
    "Multiprocessing and multithreading are both techniques used to improve the performance of applications by executing multiple tasks concurrently. However, they differ significantly in how they achieve this.   \n",
    "\n",
    "#Multiprocessing:-\n",
    "\n",
    "Separate processes: Each process has its own memory space, independent of others.   \n",
    "Better for CPU-bound tasks: Overcomes the Global Interpreter Lock (GIL) in Python, allowing efficient use of multiple cores.   \n",
    "Slower startup: Creating new processes is generally slower than creating new threads.   \n",
    "More complex communication: Inter-process communication (IPC) is required to share data between processes. \n",
    "\n",
    "#Multithreading:-\n",
    "Shared memory: Threads within a process share the same memory space.   \n",
    "Better for I/O-bound tasks: Efficient for tasks that involve waiting for external resources.   \n",
    "Faster creation: Threads are generally created faster than processes.   \n",
    "Potential for race conditions: Shared memory can lead to race conditions if not managed carefully.'''"
   ]
  },
  {
   "cell_type": "code",
   "execution_count": null,
   "id": "9b4b285e-4c03-435e-adcd-6e3ce8d8d6e4",
   "metadata": {},
   "outputs": [],
   "source": [
    "#Q3. Write a python code to create a process using the multiprocessing module."
   ]
  },
  {
   "cell_type": "code",
   "execution_count": null,
   "id": "40dcb6d2-4efc-4264-b1af-beb20de202b2",
   "metadata": {},
   "outputs": [],
   "source": [
    "'''\n",
    "import multiprocessing\n",
    "\n",
    "def worker(num):\n",
    "  \"\"\"\n",
    "  Worker function\n",
    "  \"\"\"\n",
    "  print(f\"Process ID: {os.getpid()}\")\n",
    "  print(f\"Process Name: {os.getppid()}\")\n",
    "  print(f\"Square of {num} is {num * num}\")\n",
    "\n",
    "if __name__ == \"__main__\":\n",
    "  number = 5\n",
    "  p = multiprocessing.Process(target=worker, args=(number,))\n",
    "  p.start()\n",
    "  p.join()\n",
    "  print(\"Main process ended\")\n",
    "  \n",
    "#This code will output:\n",
    "\n",
    "Process ID: <process_id>\n",
    "Process Name: <main_process_id>\n",
    "Square of 5 is 25\n",
    "Main process ended'''"
   ]
  },
  {
   "cell_type": "code",
   "execution_count": null,
   "id": "d8eb8cf9-515b-402d-b19a-e31974f6bcdc",
   "metadata": {},
   "outputs": [],
   "source": [
    "#Q4. What is a multiprocessing pool in python? Why is it used?"
   ]
  },
  {
   "cell_type": "code",
   "execution_count": null,
   "id": "4e6b8aaf-a502-4a79-b8e0-5a37996073cb",
   "metadata": {},
   "outputs": [],
   "source": [
    "'''\n",
    "#Multiprocessing Pool in Python:-\n",
    "\n",
    "A multiprocessing pool in Python is a collection of worker processes that can be used to distribute tasks across multiple cores. \n",
    "It's a higher-level abstraction than using individual Process objects, making it easier to manage and parallelize work.   \n",
    "\n",
    "#Why Use a Multiprocessing Pool?:-\n",
    "\n",
    "Simplified management: Handles the creation, management, and termination of worker processes automatically.   \n",
    "Efficient task distribution: Distributes tasks evenly across available cores.   \n",
    "Asynchronous results: Allows you to submit tasks asynchronously and retrieve results when they're ready.\n",
    "Built-in functions: Provides functions like map, apply, and imap for common parallel programming patterns.\n",
    "\n",
    "#Key Methods of the Pool Class:-\n",
    "map(func, iterable): Applies the function func to each element of the iterable, returning a list of results.\n",
    "apply(func, args): Applies the function func with the given arguments, blocking until the result is ready.\n",
    "imap(func, iterable): Applies the function func to each element of the iterable, returning an iterator of results.\n",
    "imap_unordered(func, iterable): Similar to imap, but the order of results is not guaranteed.\n",
    "\n",
    "#Example:-\n",
    "\n",
    "import multiprocessing\n",
    "import time\n",
    "\n",
    "def square(x):\n",
    "  time.sleep(1)  # Simulate some work\n",
    "  return x * x\n",
    "\n",
    "if __name__ == \"__main__\":\n",
    "  with multiprocessing.Pool(processes=4) as pool:\n",
    "    results = pool.map(square, range(10))\n",
    "    print(results)'''"
   ]
  },
  {
   "cell_type": "code",
   "execution_count": null,
   "id": "3ec8c4e6-60b9-4cc1-a355-ade1819bfa7d",
   "metadata": {},
   "outputs": [],
   "source": [
    "#Q5. How can we create a pool of worker processes in python using the multiprocessing module?"
   ]
  },
  {
   "cell_type": "code",
   "execution_count": null,
   "id": "a39df796-4ecc-435b-b47b-f88822919fe8",
   "metadata": {},
   "outputs": [],
   "source": [
    "'''\n",
    "Creating a Pool of Worker Processes in Python\n",
    "Here's a Python code snippet demonstrating how to create a pool of worker processes using the multiprocessing module:\n",
    "\n",
    "import multiprocessing\n",
    "\n",
    "def worker(num):\n",
    "  \"\"\"\n",
    "  Worker function\n",
    "  \"\"\"\n",
    "  print(f\"Process ID: {os.getpid()}\")\n",
    "  print(f\"Square of {num} is {num * num}\")\n",
    "  return num * num\n",
    "\n",
    "if __name__ == \"__main__\":\n",
    "  with multiprocessing.Pool(processes=4) as pool:\n",
    "    results = pool.map(worker, range(10))\n",
    "    print(results)'''"
   ]
  },
  {
   "cell_type": "code",
   "execution_count": null,
   "id": "f22bcbdd-b3f1-4c67-adb9-30ce47d94bbe",
   "metadata": {},
   "outputs": [],
   "source": [
    "#Q6. Write a python program to create 4 processes, each process should print a different number using the multiprocessing module in python."
   ]
  },
  {
   "cell_type": "code",
   "execution_count": null,
   "id": "cfcbd9f1-9ec3-4ef8-b7db-ca6888fd0b19",
   "metadata": {},
   "outputs": [],
   "source": [
    "'''\n",
    "import multiprocessing\n",
    "import os\n",
    "\n",
    "def worker(num):\n",
    "    print(f\"Process ID: {os.getpid()}\")\n",
    "    print(f\"Printing number: {num}\")\n",
    "\n",
    "if __name__ == \"__main__\":\n",
    "    numbers = [1, 2, 3, 4]\n",
    "    processes = []\n",
    "\n",
    "    for num in numbers:\n",
    "        process = multiprocessing.Process(target=worker, args=(num,))\n",
    "        processes.append(process)\n",
    "        process.start()\n",
    "\n",
    "    for process in processes:\n",
    "        process.join()\n",
    "        \n",
    "This code creates four processes, each printing a different number from the numbers list.'''"
   ]
  }
 ],
 "metadata": {
  "kernelspec": {
   "display_name": "Python 3 (ipykernel)",
   "language": "python",
   "name": "python3"
  },
  "language_info": {
   "codemirror_mode": {
    "name": "ipython",
    "version": 3
   },
   "file_extension": ".py",
   "mimetype": "text/x-python",
   "name": "python",
   "nbconvert_exporter": "python",
   "pygments_lexer": "ipython3",
   "version": "3.10.8"
  }
 },
 "nbformat": 4,
 "nbformat_minor": 5
}
