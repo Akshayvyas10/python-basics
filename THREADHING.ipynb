{
 "cells": [
  {
   "cell_type": "code",
   "execution_count": null,
   "id": "e817ea24-ad84-44f1-a88e-8a7e23c52c5b",
   "metadata": {},
   "outputs": [],
   "source": [
    "#Q1.What is multithreading in python? Why is it used? Name the module used to handle threads in python."
   ]
  },
  {
   "cell_type": "code",
   "execution_count": null,
   "id": "5fcd9a49-2084-4b89-b346-ff6b9415f825",
   "metadata": {},
   "outputs": [],
   "source": [
    "'''Multithreading in Python :-\n",
    "\n",
    "Multithreading is a technique where multiple threads of execution run concurrently within a single process.\n",
    "This allows a program to perform multiple tasks seemingly simultaneously.   \n",
    "\n",
    "Why Use Multithreading?\n",
    "\n",
    "Improved performance: Can enhance performance for I/O-bound tasks (like network requests, file operations) by overlapping operations.   \n",
    "Responsiveness: Keeps the application responsive while performing long-running tasks in the background.   \n",
    "Simplified programming: Can make code structure more modular and easier to understand.\n",
    "\n",
    "The threading Module:-\n",
    "\n",
    "Python's threading module provides the necessary tools for working with threads. \n",
    "It offers classes and functions to create, manage, and synchronize threads.   \n",
    "\n",
    "Key classes and functions:\n",
    "\n",
    "Thread: Represents an individual thread of execution.\n",
    "Lock: Used for thread synchronization to prevent race conditions.\n",
    "Condition: Provides more complex synchronization mechanisms.\n",
    "Event: Used for thread communication and synchronization.'''"
   ]
  },
  {
   "cell_type": "code",
   "execution_count": null,
   "id": "be9ed304-6005-4a88-9ea9-fb1ef55a2e40",
   "metadata": {},
   "outputs": [],
   "source": [
    "#Q2. Why threading module used? Write the use of the following functions.\n",
    " a.activeCount()\n",
    " b.currentThread()\n",
    " c.enumerate()"
   ]
  },
  {
   "cell_type": "code",
   "execution_count": null,
   "id": "fe541a56-35b7-4bd3-b983-21cbddc86815",
   "metadata": {},
   "outputs": [],
   "source": [
    "'''\n",
    "Why Use the threading Module in Python?\n",
    "\n",
    "The threading module in Python is primarily used for:\n",
    "\n",
    ".Creating and managing threads: It provides the Thread class to represent individual threads and methods to control their lifecycle.\n",
    ".Synchronizing thread operations: Offers mechanisms like locks, conditions, and events to coordinate the execution of multiple threads.\n",
    ".Interacting with threads: Provides functions to get information about running threads and their status.\n",
    "\n",
    "Functions in the threading Module\n",
    "\n",
    "a. activeCount()\n",
    "Purpose: Returns the approximate number of currently active threads.\n",
    "Usage: Useful for monitoring the number of running threads in an application.\n",
    "\n",
    "b. currentThread()\n",
    "Purpose: Returns a reference to the currently executing thread object.\n",
    "Usage: Can be used to obtain information about the current thread or to perform thread-specific actions.\n",
    "\n",
    "c. enumerate()\n",
    "Purpose: Returns a list of all currently active thread objects.\n",
    "Usage: Useful for inspecting the state of all running threads, such as their names or identification.\n",
    "\n",
    "Example:\n",
    "\n",
    "import threading\n",
    "\n",
    "def worker():\n",
    "    print(f\"Thread {threading.current_thread().name} started\")\n",
    "\n",
    "threads = []\n",
    "for i in range(5):\n",
    "    t = threading.Thread(target=worker)\n",
    "    threads.append(t)\n",
    "    t.start()\n",
    "\n",
    "print(\"Active count:\", threading.active_count())\n",
    "print(\"Current thread:\", threading.current_thread())\n",
    "print(\"All threads:\", threading.enumerate())'''"
   ]
  },
  {
   "cell_type": "code",
   "execution_count": null,
   "id": "8fab312a-e428-4bc0-977c-38170f4f9dfd",
   "metadata": {},
   "outputs": [],
   "source": [
    "#Q3.Explain the following functions :\n",
    " 1.run()\n",
    " 2.start()\n",
    " 3.join()\n",
    " 4.isAlive()"
   ]
  },
  {
   "cell_type": "code",
   "execution_count": null,
   "id": "598820ea-42bc-4bd0-a884-b5866b9025e9",
   "metadata": {},
   "outputs": [],
   "source": [
    "'''\n",
    "These four functions are essential for managing threads in Python's threading module:\n",
    "\n",
    "1. run()\n",
    "\n",
    "Purpose: This function defines the actual work the thread will perform. It's the entry point for the thread's execution.\n",
    "Usage: You override the run() method of the Thread class to specify the tasks the thread will execute. \n",
    "The run() method contains the code that should be executed concurrently within the thread.\n",
    "\n",
    "import threading\n",
    "\n",
    "class MyThread(threading.Thread):\n",
    "  def __init__(self):\n",
    "    super().__init__()\n",
    "\n",
    "  def run(self):\n",
    "    print(f\"Thread {self.name} running!\")\n",
    "    # Code to be executed by the thread goes here\n",
    "\n",
    "thread = MyThread()\n",
    "\n",
    "2. start()\n",
    "\n",
    "Purpose: This function initiates the actual execution of the thread.\n",
    "Usage: Once you've defined the run() method, call the start() method on the thread object to start its execution. \n",
    "This creates a new thread of control and schedules the thread's run() method to be executed concurrently with the main thread.\n",
    "\n",
    "thread.start()\n",
    "\n",
    "3. join()\n",
    "\n",
    "Purpose: This function suspends the execution of the calling thread (usually the main thread) until the target thread (the thread you call join() on) finishes its execution.\n",
    "Usage: join() is often used within the main thread to ensure all child threads complete their work before the program exits. \n",
    "It effectively makes the main thread wait for the target thread to finish.\n",
    "\n",
    "thread.join()  # Main thread waits for the child thread to finish\n",
    "print(\"Main thread finished!\")\n",
    "\n",
    "4. isAlive()\n",
    "\n",
    "Purpose: This function checks if a thread is currently alive (running) or not.\n",
    "Usage: isAlive() returns True if the thread is still running and False if it has terminated. \n",
    "This can be helpful for determining when a thread has finished its execution or for implementing more complex thread coordination logic.\n",
    "\n",
    "if thread.isAlive():\n",
    "  print(\"Thread is still alive\")\n",
    "else:\n",
    "  print(\"Thread has finished\")'''"
   ]
  },
  {
   "cell_type": "code",
   "execution_count": null,
   "id": "b92bd23a-9534-4cb5-aa46-c78a11169d9e",
   "metadata": {},
   "outputs": [],
   "source": [
    "#Q4.Write a python program to create two threads. Thread one must print the list of squares and thread two must print the list of cubes."
   ]
  },
  {
   "cell_type": "code",
   "execution_count": null,
   "id": "52926894-3641-46b8-865f-b5d8cbe8efed",
   "metadata": {},
   "outputs": [],
   "source": [
    "'''\n",
    "import threading\n",
    "\n",
    "def print_squares(n):\n",
    "  for i in range(1, n+1):\n",
    "    print(f\"Square of {i}: {i*i}\")\n",
    "\n",
    "def print_cubes(n):\n",
    "  for i in range(1, n+1):\n",
    "    print(f\"Cube of {i}: {i*i*i}\")\n",
    "\n",
    "if __name__ == \"__main__\":\n",
    "  n = 5\n",
    "  thread1 = threading.Thread(target=print_squares, args=(n,))\n",
    "  thread2 = threading.Thread(target=print_cubes, args=(n,))\n",
    "\n",
    "  thread1.start()\n",
    "  thread2.start()\n",
    "\n",
    "  thread1.join()\n",
    "  thread2.join()\n",
    "\n",
    "  print(\"Both threads finished execution\")\n",
    "  \n",
    "This code creates two threads, one for printing squares and another for printing cubes.\n",
    "The join() method ensures that the main thread waits for both threads to complete before printing the final message.'''"
   ]
  },
  {
   "cell_type": "code",
   "execution_count": null,
   "id": "c4b24a42-76fc-493f-ba1e-f63d986fd6d6",
   "metadata": {},
   "outputs": [],
   "source": [
    "#Q5.State advantages and disadvantages of multithreading."
   ]
  },
  {
   "cell_type": "code",
   "execution_count": null,
   "id": "2c130485-514f-465b-b459-f3c26d877510",
   "metadata": {},
   "outputs": [],
   "source": [
    "'''\n",
    "#Advantages of Multithreading :-\n",
    "\n",
    "Improved performance: By utilizing multiple cores or processors, multithreading can significantly enhance performance for tasks that can be parallelized.\n",
    "Increased responsiveness: Multithreading can prevent the application from freezing during long-running operations, ensuring a better user experience.\n",
    "Efficient resource utilization: Threads can share resources, reducing overall memory footprint and improving resource utilization.\n",
    "Simplified modeling: Some problems can be naturally modeled using multiple threads, leading to cleaner and more maintainable code.\n",
    "\n",
    "#Disadvantages of Multithreading :-\n",
    "\n",
    "Complexity: Multithreaded programming introduces challenges like synchronization, race conditions, and deadlocks, making code harder to write, debug, and maintain.   \n",
    "Overhead: Creating and managing threads incurs overhead in terms of memory and CPU usage.\n",
    "Synchronization issues: Coordinating access to shared resources between threads can be complex and error-prone if not handled carefully.\n",
    "Debugging challenges: Debugging multithreaded programs can be difficult due to non-deterministic behavior and the potential for race conditions.\n",
    "Limited scalability: In Python, the Global Interpreter Lock (GIL) restricts the ability of multithreading to fully utilize multiple cores for CPU-bound tasks.'''"
   ]
  },
  {
   "cell_type": "code",
   "execution_count": null,
   "id": "c8668b2a-2388-47ab-a20b-99e90e1158bd",
   "metadata": {},
   "outputs": [],
   "source": [
    "#Q6.Explain deadlocks and race conditions."
   ]
  },
  {
   "cell_type": "code",
   "execution_count": null,
   "id": "bf2b41f1-9dff-43dc-953e-075702d992fe",
   "metadata": {},
   "outputs": [],
   "source": [
    "'''\n",
    "Race Conditions\n",
    "A race condition occurs when two or more threads access shared data concurrently and the final outcome depends on the unpredictable order in which the threads execute. This can lead to inconsistent results, data corruption, or unexpected behavior.   \n",
    "\n",
    "Example:\n",
    "Imagine two threads trying to increment a shared counter variable. Both threads read the current value, increment it, and then write the new value back. If both threads read the same value before either writes, the final result will be incorrect.\n",
    "\n",
    "Deadlocks\n",
    "A deadlock occurs when two or more threads are blocked, each waiting for the other to release a resource it holds. This creates a circular dependency, and none of the threads can proceed, leading to a program freeze.\n",
    "\n",
    "Example:\n",
    "Consider two threads, A and B. Thread A acquires lock X and then tries to acquire lock Y. Thread B acquires lock Y and then tries to acquire lock X. Both threads are now blocked, waiting for the other to release the lock it holds, resulting in a deadlock.'''"
   ]
  }
 ],
 "metadata": {
  "kernelspec": {
   "display_name": "Python 3 (ipykernel)",
   "language": "python",
   "name": "python3"
  },
  "language_info": {
   "codemirror_mode": {
    "name": "ipython",
    "version": 3
   },
   "file_extension": ".py",
   "mimetype": "text/x-python",
   "name": "python",
   "nbconvert_exporter": "python",
   "pygments_lexer": "ipython3",
   "version": "3.10.8"
  }
 },
 "nbformat": 4,
 "nbformat_minor": 5
}
