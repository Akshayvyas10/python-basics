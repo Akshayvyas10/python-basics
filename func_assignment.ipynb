{
 "cells": [
  {
   "cell_type": "code",
   "execution_count": 1,
   "id": "eefec031-f698-444d-a153-fee763b76e19",
   "metadata": {},
   "outputs": [],
   "source": [
    "#Q1. Which keyword is used to create a function? Create a function to return a list of odd numbers in the\n",
    "#range of 1 to 25.\n"
   ]
  },
  {
   "cell_type": "raw",
   "id": "4e36ef51-8bc2-44a8-b9a6-fdfbe8be4ba0",
   "metadata": {},
   "source": [
    "KEYWORD USED TO CREATE A FUNCTION IS \"def\".\n",
    "FUNCTION FOR ABOVE QUESTION IS DEFINED BELOW IN NEXT CELL"
   ]
  },
  {
   "cell_type": "code",
   "execution_count": 1,
   "id": "662d6ef6-a713-4807-815d-43e5166aa523",
   "metadata": {},
   "outputs": [],
   "source": [
    "def test():\n",
    "    l = []\n",
    "    for i in range(26):\n",
    "        if i%2 != 0 :\n",
    "            l.append(i)\n",
    "    return(l)"
   ]
  },
  {
   "cell_type": "code",
   "execution_count": 2,
   "id": "9398750d-5638-47f9-ab05-72e030f127cf",
   "metadata": {},
   "outputs": [
    {
     "data": {
      "text/plain": [
       "[1, 3, 5, 7, 9, 11, 13, 15, 17, 19, 21, 23, 25]"
      ]
     },
     "execution_count": 2,
     "metadata": {},
     "output_type": "execute_result"
    }
   ],
   "source": [
    "test()"
   ]
  },
  {
   "cell_type": "code",
   "execution_count": 3,
   "id": "9e4c775d-5717-48dc-938c-a1144441391a",
   "metadata": {},
   "outputs": [],
   "source": [
    "#Q2.Why *args and **kwargs is used in some functions? Create a function each for *args and **kwargs to\n",
    "#demonstrate their use.\n"
   ]
  },
  {
   "cell_type": "raw",
   "id": "34e9a440-80af-494a-b019-d8602158245f",
   "metadata": {},
   "source": [
    "IF WE NEED TO GIVE MULTIPLE ARGUMENT IN A FUNCTION WE USE *args\n",
    "IF WE NEED TO GIVE MULTIPLE ARGUMENT IN A FUNCTION AS KEY VALUE PAIR WE USE *kwargs"
   ]
  },
  {
   "cell_type": "code",
   "execution_count": 4,
   "id": "1004b589-213c-41cb-b9ca-2dfd762c1eae",
   "metadata": {},
   "outputs": [],
   "source": [
    "def test(a,b,c):\n",
    "    pass \n",
    "    "
   ]
  },
  {
   "cell_type": "code",
   "execution_count": 5,
   "id": "5ae392ba-fe79-4804-9540-957f27e77be4",
   "metadata": {},
   "outputs": [],
   "source": [
    "test(23,\"pwskills\",4+34j)"
   ]
  },
  {
   "cell_type": "code",
   "execution_count": 6,
   "id": "7050d9b9-a5c6-41e5-9243-4b92f622c6c4",
   "metadata": {},
   "outputs": [
    {
     "ename": "TypeError",
     "evalue": "test() takes 3 positional arguments but 7 were given",
     "output_type": "error",
     "traceback": [
      "\u001b[0;31m---------------------------------------------------------------------------\u001b[0m",
      "\u001b[0;31mTypeError\u001b[0m                                 Traceback (most recent call last)",
      "Cell \u001b[0;32mIn[6], line 1\u001b[0m\n\u001b[0;32m----> 1\u001b[0m \u001b[43mtest\u001b[49m\u001b[43m(\u001b[49m\u001b[38;5;241;43m23\u001b[39;49m\u001b[43m,\u001b[49m\u001b[38;5;241;43m434\u001b[39;49m\u001b[43m,\u001b[49m\u001b[38;5;124;43m\"\u001b[39;49m\u001b[38;5;124;43mav\u001b[39;49m\u001b[38;5;124;43m\"\u001b[39;49m\u001b[43m,\u001b[49m\u001b[38;5;241;43m45\u001b[39;49m\u001b[38;5;241;43m+\u001b[39;49m\u001b[38;5;241;43m56\u001b[39;49m\u001b[43mj\u001b[49m\u001b[43m,\u001b[49m\u001b[38;5;241;43m24\u001b[39;49m\u001b[43m,\u001b[49m\u001b[38;5;241;43m54\u001b[39;49m\u001b[43m,\u001b[49m\u001b[38;5;124;43m\"\u001b[39;49m\u001b[38;5;124;43mrai\u001b[39;49m\u001b[38;5;124;43m\"\u001b[39;49m\u001b[43m)\u001b[49m\n",
      "\u001b[0;31mTypeError\u001b[0m: test() takes 3 positional arguments but 7 were given"
     ]
    }
   ],
   "source": [
    "test(23,434,\"av\",45+56j,24,54,\"rai\")"
   ]
  },
  {
   "cell_type": "code",
   "execution_count": 7,
   "id": "b70a4f8f-dfc1-476d-a9f8-c4df8845918b",
   "metadata": {},
   "outputs": [],
   "source": [
    "#args\n",
    "def test1(*args):\n",
    "    pass"
   ]
  },
  {
   "cell_type": "code",
   "execution_count": 8,
   "id": "1cd548b4-f457-4e4c-ad86-b51d8029ce4f",
   "metadata": {},
   "outputs": [],
   "source": [
    "test1(23,4,3,34,334,\"pwskills\",45+54j,True)"
   ]
  },
  {
   "cell_type": "code",
   "execution_count": 15,
   "id": "f5f0c7ee-250b-44d8-971b-83f2088e553d",
   "metadata": {},
   "outputs": [],
   "source": [
    "#**kwargs \n",
    "def test(**kwargs):\n",
    "    pass"
   ]
  },
  {
   "cell_type": "code",
   "execution_count": 16,
   "id": "41c9ca9d-668b-4671-8a4e-41891765879e",
   "metadata": {},
   "outputs": [],
   "source": [
    "test(a = 123, b = 24, c = \"pwskills\")"
   ]
  },
  {
   "cell_type": "code",
   "execution_count": 17,
   "id": "242c0060-3056-4a30-8a38-ca8b70783c54",
   "metadata": {},
   "outputs": [],
   "source": [
    "#Q3.What is an iterator in python? Name the method used to initialise the iterator object and the method\n",
    "#used for iteration. Use these methods to print the first five elements of the given list [2, 4, 6, 8, 10, 12, 14, 16,\n",
    "#18, 20]."
   ]
  },
  {
   "cell_type": "raw",
   "id": "acf1c1ce-e737-47c5-838b-cb0a4d2aa8d0",
   "metadata": {},
   "source": [
    "ITERATION IS DEFINED AS GOING THROUGH A DATA SET OF A PARTICULAR DATA TYPE AND EXTRACTING NECESSARY DATA"
   ]
  },
  {
   "cell_type": "code",
   "execution_count": 18,
   "id": "a0c7edbf-7ae5-47cf-a524-1585bf4bfe9c",
   "metadata": {},
   "outputs": [],
   "source": [
    "l = [2, 4, 6, 8, 10, 12, 14, 16,18, 20]"
   ]
  },
  {
   "cell_type": "code",
   "execution_count": 56,
   "id": "3dd6e664-06ef-4238-bb75-62b187fdf4fd",
   "metadata": {},
   "outputs": [],
   "source": [
    "def test4(a):\n",
    "    if type(a) == list:\n",
    "        for i in a:\n",
    "            if i <= 10:\n",
    "                print(i)\n",
    "    "
   ]
  },
  {
   "cell_type": "code",
   "execution_count": 57,
   "id": "dbb539ef-fd45-43b4-8640-f172614b3cb6",
   "metadata": {},
   "outputs": [
    {
     "name": "stdout",
     "output_type": "stream",
     "text": [
      "2\n",
      "4\n",
      "6\n",
      "8\n",
      "10\n"
     ]
    }
   ],
   "source": [
    "test4(l)"
   ]
  },
  {
   "cell_type": "code",
   "execution_count": null,
   "id": "0808e316-9469-4865-94e0-6c463cb91ae5",
   "metadata": {},
   "outputs": [],
   "source": [
    "#Q4.What is a generator function in python? Why yield keyword is used? Give an example of a generator\n",
    "#function."
   ]
  },
  {
   "cell_type": "raw",
   "id": "8892a059-b03f-4650-ab83-f8c991f28a68",
   "metadata": {},
   "source": [
    "GENERATOR FUNC ARE NOT AS THE ORDINARYFUNC WHICH GIVES THE COMPLETE OUTPUT IN ONE GO BUT DIVES THE OUTPUT AS REQUIRED AND THE FUNC DOESNOT USES RETURN BUT YIELD\n",
    "\"YIELD MEANS GO THROIGH AND GIVE THE RETURN/OUTPUT ONE BY ONE TO ITERATE THROUGH ONE BY ONE\""
   ]
  },
  {
   "cell_type": "code",
   "execution_count": 32,
   "id": "3281f7ec-45f1-4357-be62-0e0700139d91",
   "metadata": {},
   "outputs": [],
   "source": [
    "def test_func(x):\n",
    "    a,b = 0,1\n",
    "    for a in range(x):\n",
    "        a,b = b,a+b\n",
    "        \n",
    "        yield a\n",
    "       \n",
    "        "
   ]
  },
  {
   "cell_type": "code",
   "execution_count": 33,
   "id": "5d04a35a-f056-4ff7-9fd6-e822810927f5",
   "metadata": {},
   "outputs": [
    {
     "name": "stdout",
     "output_type": "stream",
     "text": [
      "1\n",
      "1\n",
      "2\n",
      "4\n",
      "7\n",
      "11\n",
      "16\n",
      "22\n",
      "29\n",
      "37\n",
      "46\n"
     ]
    }
   ],
   "source": [
    "for z in test_func(11):\n",
    "    print (z)"
   ]
  },
  {
   "cell_type": "code",
   "execution_count": null,
   "id": "246184bf-9468-4a70-8654-ff5c82baec63",
   "metadata": {},
   "outputs": [],
   "source": [
    "#Q5.Create a generator function for prime numbers less than 1000. Use the next() method to print the\n",
    "#first 20 prime numbers"
   ]
  },
  {
   "cell_type": "code",
   "execution_count": 34,
   "id": "2fa28a48-ba4e-432f-ae11-3e8564e0db54",
   "metadata": {},
   "outputs": [],
   "source": [
    "def prime_num():\n",
    "    for i in range(1001):\n",
    "        "
   ]
  },
  {
   "cell_type": "code",
   "execution_count": 35,
   "id": "3c1a9984-5abf-42ed-b539-68c4cf72ad6b",
   "metadata": {},
   "outputs": [
    {
     "ename": "ZeroDivisionError",
     "evalue": "integer division or modulo by zero",
     "output_type": "error",
     "traceback": [
      "\u001b[0;31m---------------------------------------------------------------------------\u001b[0m",
      "\u001b[0;31mZeroDivisionError\u001b[0m                         Traceback (most recent call last)",
      "Cell \u001b[0;32mIn[35], line 1\u001b[0m\n\u001b[0;32m----> 1\u001b[0m \u001b[38;5;28;01mfor\u001b[39;00m x \u001b[38;5;129;01min\u001b[39;00m prime_num():\n\u001b[1;32m      2\u001b[0m     \u001b[38;5;28mprint\u001b[39m(x)\n",
      "Cell \u001b[0;32mIn[34], line 3\u001b[0m, in \u001b[0;36mprime_num\u001b[0;34m()\u001b[0m\n\u001b[1;32m      1\u001b[0m \u001b[38;5;28;01mdef\u001b[39;00m \u001b[38;5;21mprime_num\u001b[39m():\n\u001b[1;32m      2\u001b[0m     \u001b[38;5;28;01mfor\u001b[39;00m i \u001b[38;5;129;01min\u001b[39;00m \u001b[38;5;28mrange\u001b[39m(\u001b[38;5;241m1001\u001b[39m):\n\u001b[0;32m----> 3\u001b[0m         \u001b[38;5;28;01mif\u001b[39;00m i\u001b[38;5;241m/\u001b[39m\u001b[38;5;241m1\u001b[39m \u001b[38;5;241m==\u001b[39m i \u001b[38;5;129;01mand\u001b[39;00m \u001b[43mi\u001b[49m\u001b[38;5;241;43m%\u001b[39;49m\u001b[43mi\u001b[49m \u001b[38;5;241m==\u001b[39m \u001b[38;5;241m0\u001b[39m:\n\u001b[1;32m      4\u001b[0m             \u001b[38;5;28;01mTrue\u001b[39;00m\n\u001b[1;32m      5\u001b[0m         \u001b[38;5;28;01melse\u001b[39;00m:\n",
      "\u001b[0;31mZeroDivisionError\u001b[0m: integer division or modulo by zero"
     ]
    }
   ],
   "source": [
    "for x in prime_num():\n",
    "    print(x)"
   ]
  },
  {
   "cell_type": "code",
   "execution_count": null,
   "id": "f2cbb764-6db5-485a-952d-f7762bf6c165",
   "metadata": {},
   "outputs": [],
   "source": []
  }
 ],
 "metadata": {
  "kernelspec": {
   "display_name": "Python 3 (ipykernel)",
   "language": "python",
   "name": "python3"
  },
  "language_info": {
   "codemirror_mode": {
    "name": "ipython",
    "version": 3
   },
   "file_extension": ".py",
   "mimetype": "text/x-python",
   "name": "python",
   "nbconvert_exporter": "python",
   "pygments_lexer": "ipython3",
   "version": "3.10.8"
  }
 },
 "nbformat": 4,
 "nbformat_minor": 5
}
