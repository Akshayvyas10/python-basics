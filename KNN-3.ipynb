{
  "metadata": {
    "kernelspec": {
      "name": "python",
      "display_name": "Python (Pyodide)",
      "language": "python"
    },
    "language_info": {
      "codemirror_mode": {
        "name": "python",
        "version": 3
      },
      "file_extension": ".py",
      "mimetype": "text/x-python",
      "name": "python",
      "nbconvert_exporter": "python",
      "pygments_lexer": "ipython3",
      "version": "3.8"
    }
  },
  "nbformat_minor": 4,
  "nbformat": 4,
  "cells": [
    {
      "cell_type": "code",
      "source": "#Q1. Write a Python code to implement the KNN classifier algorithm on load_iris dataset in sklearn.datasets.",
      "metadata": {
        "trusted": true
      },
      "outputs": [],
      "execution_count": null
    },
    {
      "cell_type": "code",
      "source": "'''from sklearn.neighbors import KNeighborsClassifier\nfrom sklearn.datasets import load_iris\nfrom sklearn.model_selection import train_test_split\nfrom sklearn.metrics import accuracy_score\n\n# Load the Iris dataset\niris = load_iris()\nX = iris.data\ny = iris.target\n\n# Split the data into training and testing sets\nX_train, X_test, y_train, y_test = train_test_split(X, y, test_size=0.2, random_state=42)\n\n# Create a KNN classifier with k=3\nknn = KNeighborsClassifier(n_neighbors=3)\n\n# Train the classifier on the training data\nknn.fit(X_train, y_train)\n\n# Make predictions on the testing data\ny_pred = knn.predict(X_test)\n\n# Evaluate the accuracy of the classifier\naccuracy = accuracy_score(y_test, y_pred)\nprint(\"Accuracy:\", accuracy) '''",
      "metadata": {
        "trusted": true
      },
      "outputs": [],
      "execution_count": null
    },
    {
      "cell_type": "code",
      "source": "#Q2. Write a Python code to implement the KNN regressor algorithm on load_boston dataset in sklearn.datasets.",
      "metadata": {
        "trusted": true
      },
      "outputs": [],
      "execution_count": null
    },
    {
      "cell_type": "code",
      "source": "'''from sklearn.neighbors import KNeighborsRegressor\nfrom sklearn.datasets import load_boston\nfrom sklearn.model_selection import train_test_split\nfrom sklearn.metrics import mean_squared_error\n\n# Load the Boston housing dataset\nboston = load_boston()\nX = boston.data\ny = boston.target\n\n# Split the data into training and testing sets\nX_train, X_test, y_train, y_test = train_test_split(X, y, test_size=0.2, random_state=42)\n\n# Create a KNN regressor with k=5\nknn_regressor = KNeighborsRegressor(n_neighbors=5)\n\n# Train the regressor on the training data\nknn_regressor.fit(X_train, y_train)\n\n# Make predictions on the testing data\ny_pred = knn_regressor.predict(X_test)\n\n# Evaluate the performance of the regressor\nmse = mean_squared_error(y_test, y_pred)\nprint(\"Mean Squared Error:\", mse) '''",
      "metadata": {
        "trusted": true
      },
      "outputs": [],
      "execution_count": null
    },
    {
      "cell_type": "code",
      "source": "#Q3. Write a Python code snippet to find the optimal value of K for the KNN classifier algorithm using cross-validation on load_iris dataset in sklearn.datasets.",
      "metadata": {
        "trusted": true
      },
      "outputs": [],
      "execution_count": null
    },
    {
      "cell_type": "code",
      "source": "'''from sklearn.neighbors import KNeighborsClassifier\nfrom sklearn.datasets import load_iris\nfrom sklearn.model_selection import train_test_split, cross_val_score\nfrom sklearn.model_selection import GridSearchCV\n\n# Load the Iris dataset\niris = load_iris()\nX = iris.data\ny = iris.target\n\n# Split the data into training and testing sets\nX_train, X_test, y_train, y_test = train_test_split(X, y, test_size=0.2, random_state=42)\n\n# Create a KNN classifier\nknn = KNeighborsClassifier()\n\n# Define the parameter grid to search for the best value of K\nparam_grid = {'n_neighbors': range(1, 31)}\n\n# Create a grid search object\ngrid_search = GridSearchCV(knn, param_grid, cv=5)\n\n# Fit the grid search to the training data\ngrid_search.fit(X_train, y_train)\n\n# Best parameters and accuracy\nbest_k = grid_search.best_params_['n_neighbors']\nbest_accuracy = grid_search.best_score_\n\nprint(\"Best K:\", best_k)\nprint(\"Best Accuracy:\", best_accuracy) '''",
      "metadata": {
        "trusted": true
      },
      "outputs": [],
      "execution_count": null
    },
    {
      "cell_type": "code",
      "source": "#Q4. Implement the KNN regressor algorithm with feature scaling on load_boston dataset in sklearn.datasets.",
      "metadata": {
        "trusted": true
      },
      "outputs": [],
      "execution_count": null
    },
    {
      "cell_type": "code",
      "source": "'''from sklearn.neighbors import KNeighborsRegressor\nfrom sklearn.datasets import load_boston\nfrom sklearn.model_selection import train_test_split\nfrom sklearn.metrics import mean_squared_error\nfrom sklearn.preprocessing import StandardScaler\n\n# Load the Boston housing dataset\nboston = load_boston()\nX = boston.data\ny = boston.target\n\n# Create a StandardScaler object\nscaler = StandardScaler()\n\n# Scale the features\nX_scaled = scaler.fit_transform(X)\n\n# Split the scaled data into training and testing sets\nX_train, X_test, y_train, y_test = train_test_split(X_scaled, y, test_size=0.2, random_state=42)\n\n# Create a KNN regressor with k=5\nknn_regressor = KNeighborsRegressor(n_neighbors=5)\n\n# Train the regressor on the training data\nknn_regressor.fit(X_train, y_train)\n\n# Make predictions on the testing data\ny_pred = knn_regressor.predict(X_test)\n\n# Evaluate the performance of the regressor\nmse = mean_squared_error(y_test, y_pred)\nprint(\"Mean Squared Error:\", mse) '''",
      "metadata": {
        "trusted": true
      },
      "outputs": [],
      "execution_count": null
    },
    {
      "cell_type": "code",
      "source": "#Q5. Write a Python code snippet to implement the KNN classifier algorithm with weighted voting on load_iris dataset in sklearn.datasets.",
      "metadata": {
        "trusted": true
      },
      "outputs": [],
      "execution_count": null
    },
    {
      "cell_type": "code",
      "source": "'''from sklearn.neighbors import KNeighborsClassifier\nfrom sklearn.datasets import load_iris\nfrom sklearn.model_selection import train_test_split\nfrom sklearn.metrics import accuracy_score\n\n# Load the Iris dataset\niris = load_iris()\nX = iris.data\ny = iris.target\n\n# Split the data into training and testing sets\nX_train, X_test, y_train, y_test = train_test_split(X, y, test_size=0.2, random_state=42)\n\n# Create a KNN classifier with weighted voting\nknn = KNeighborsClassifier(n_neighbors=3, weights='distance')\n\n# Train the classifier on the training data\nknn.fit(X_train, y_train)\n\n# Make predictions on the testing data\ny_pred = knn.predict(X_test)\n\n# Evaluate the accuracy of the classifier\naccuracy = accuracy_score(y_test, y_pred)\nprint(\"Accuracy:\", accuracy) '''",
      "metadata": {
        "trusted": true
      },
      "outputs": [],
      "execution_count": null
    },
    {
      "cell_type": "code",
      "source": "#Q6. Implement a function to standardise the features before applying KNN classifier.",
      "metadata": {
        "trusted": true
      },
      "outputs": [],
      "execution_count": null
    },
    {
      "cell_type": "code",
      "source": "'''import numpy as np\n\ndef standardize_features(X):\n  \"\"\"\n  Standardizes the features in a dataset.\n\n  Args:\n    X: The input data as a NumPy array.\n\n  Returns:\n    The standardized data as a NumPy array.\n  \"\"\"\n\n  mean = np.mean(X, axis=0)\n  std = np.std(X, axis=0)\n\n  X_standardized = (X - mean) / std\n\n  return X_standardized '''",
      "metadata": {
        "trusted": true
      },
      "outputs": [],
      "execution_count": null
    },
    {
      "cell_type": "code",
      "source": "#Q7. Write a Python function to calculate the euclidean distance between two points.",
      "metadata": {
        "trusted": true
      },
      "outputs": [],
      "execution_count": null
    },
    {
      "cell_type": "code",
      "source": "'''import numpy as np\n\ndef euclidean_distance(x1, x2):\n  \"\"\"\n  Calculates the Euclidean distance between two points.\n\n  Args:\n    x1: The first point as a NumPy array.\n    x2: The second point as a NumPy array.\n\n  Returns:\n    The Euclidean distance between the two points.\n  \"\"\"\n\n  distance = np.sqrt(np.sum((x1 - x2) ** 2))\n  return distance '''",
      "metadata": {
        "trusted": true
      },
      "outputs": [],
      "execution_count": null
    },
    {
      "cell_type": "code",
      "source": "#Q8. Write a Python function to calculate the manhattan distance between two points.",
      "metadata": {
        "trusted": true
      },
      "outputs": [],
      "execution_count": null
    },
    {
      "cell_type": "code",
      "source": "'''import numpy as np\n\ndef manhattan_distance(x1, x2):\n  \"\"\"\n  Calculates the Manhattan distance between two points.\n\n  Args:\n    x1: The first point as a NumPy array.\n    x2: The second point as a NumPy array.\n\n  Returns:\n    The Manhattan distance between the two points.\n  \"\"\"\n\n  distance = np.sum(np.abs(x1 - x2))\n  return distance '''",
      "metadata": {
        "trusted": true
      },
      "outputs": [],
      "execution_count": null
    }
  ]
}